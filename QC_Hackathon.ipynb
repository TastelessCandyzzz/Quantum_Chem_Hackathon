{
  "nbformat": 4,
  "nbformat_minor": 0,
  "metadata": {
    "colab": {
      "provenance": [],
      "authorship_tag": "ABX9TyNBZwNADrcqkcTZxe5VNH8i"
    },
    "kernelspec": {
      "name": "python3",
      "display_name": "Python 3"
    },
    "language_info": {
      "name": "python"
    }
  },
  "cells": [
    {
      "cell_type": "markdown",
      "source": [
        "### **Requirements**"
      ],
      "metadata": {
        "id": "M83riC5AhIyN"
      }
    },
    {
      "cell_type": "code",
      "source": [
        "!pip install qiskit_nature\n",
        "!pip install pyscf\n",
        "!pip install rdkit\n",
        "!pip install qiskit_aer\n",
        "!pip install openfermion openfermionpyscf\n",
        "!pip install scikit-learn"
      ],
      "metadata": {
        "id": "qWkBRo1ZTRsz",
        "colab": {
          "base_uri": "https://localhost:8080/"
        },
        "outputId": "faa44acb-1f44-4788-97da-994c4e43ecce",
        "collapsed": true
      },
      "execution_count": 13,
      "outputs": [
        {
          "output_type": "stream",
          "name": "stdout",
          "text": [
            "Requirement already satisfied: qiskit_nature in /usr/local/lib/python3.12/dist-packages (0.7.2)\n",
            "Requirement already satisfied: qiskit>=0.44 in /usr/local/lib/python3.12/dist-packages (from qiskit_nature) (2.2.1)\n",
            "Requirement already satisfied: qiskit-algorithms>=0.2.1 in /usr/local/lib/python3.12/dist-packages (from qiskit_nature) (0.4.0)\n",
            "Requirement already satisfied: scipy>=1.4 in /usr/local/lib/python3.12/dist-packages (from qiskit_nature) (1.16.2)\n",
            "Requirement already satisfied: numpy>=1.17 in /usr/local/lib/python3.12/dist-packages (from qiskit_nature) (2.0.2)\n",
            "Requirement already satisfied: psutil>=5 in /usr/local/lib/python3.12/dist-packages (from qiskit_nature) (5.9.5)\n",
            "Requirement already satisfied: setuptools>=40.1.0 in /usr/local/lib/python3.12/dist-packages (from qiskit_nature) (75.2.0)\n",
            "Requirement already satisfied: typing-extensions in /usr/local/lib/python3.12/dist-packages (from qiskit_nature) (4.15.0)\n",
            "Requirement already satisfied: h5py in /usr/local/lib/python3.12/dist-packages (from qiskit_nature) (3.14.0)\n",
            "Requirement already satisfied: rustworkx>=0.12 in /usr/local/lib/python3.12/dist-packages (from qiskit_nature) (0.17.1)\n",
            "Requirement already satisfied: dill>=0.3 in /usr/local/lib/python3.12/dist-packages (from qiskit>=0.44->qiskit_nature) (0.3.8)\n",
            "Requirement already satisfied: stevedore>=3.0.0 in /usr/local/lib/python3.12/dist-packages (from qiskit>=0.44->qiskit_nature) (5.5.0)\n",
            "Requirement already satisfied: pyscf in /usr/local/lib/python3.12/dist-packages (2.10.0)\n",
            "Requirement already satisfied: numpy!=1.16,!=1.17,>=1.13 in /usr/local/lib/python3.12/dist-packages (from pyscf) (2.0.2)\n",
            "Requirement already satisfied: scipy>=1.6.0 in /usr/local/lib/python3.12/dist-packages (from pyscf) (1.16.2)\n",
            "Requirement already satisfied: h5py>=2.7 in /usr/local/lib/python3.12/dist-packages (from pyscf) (3.14.0)\n",
            "Requirement already satisfied: setuptools in /usr/local/lib/python3.12/dist-packages (from pyscf) (75.2.0)\n",
            "Requirement already satisfied: rdkit in /usr/local/lib/python3.12/dist-packages (2025.9.1)\n",
            "Requirement already satisfied: numpy in /usr/local/lib/python3.12/dist-packages (from rdkit) (2.0.2)\n",
            "Requirement already satisfied: Pillow in /usr/local/lib/python3.12/dist-packages (from rdkit) (11.3.0)\n",
            "Requirement already satisfied: qiskit_aer in /usr/local/lib/python3.12/dist-packages (0.17.2)\n",
            "Requirement already satisfied: qiskit>=1.1.0 in /usr/local/lib/python3.12/dist-packages (from qiskit_aer) (2.2.1)\n",
            "Requirement already satisfied: numpy>=1.16.3 in /usr/local/lib/python3.12/dist-packages (from qiskit_aer) (2.0.2)\n",
            "Requirement already satisfied: scipy>=1.0 in /usr/local/lib/python3.12/dist-packages (from qiskit_aer) (1.16.2)\n",
            "Requirement already satisfied: psutil>=5 in /usr/local/lib/python3.12/dist-packages (from qiskit_aer) (5.9.5)\n",
            "Requirement already satisfied: python-dateutil>=2.8.0 in /usr/local/lib/python3.12/dist-packages (from qiskit_aer) (2.9.0.post0)\n",
            "Requirement already satisfied: six>=1.5 in /usr/local/lib/python3.12/dist-packages (from python-dateutil>=2.8.0->qiskit_aer) (1.17.0)\n",
            "Requirement already satisfied: rustworkx>=0.15.0 in /usr/local/lib/python3.12/dist-packages (from qiskit>=1.1.0->qiskit_aer) (0.17.1)\n",
            "Requirement already satisfied: dill>=0.3 in /usr/local/lib/python3.12/dist-packages (from qiskit>=1.1.0->qiskit_aer) (0.3.8)\n",
            "Requirement already satisfied: stevedore>=3.0.0 in /usr/local/lib/python3.12/dist-packages (from qiskit>=1.1.0->qiskit_aer) (5.5.0)\n",
            "Requirement already satisfied: typing-extensions in /usr/local/lib/python3.12/dist-packages (from qiskit>=1.1.0->qiskit_aer) (4.15.0)\n",
            "Requirement already satisfied: openfermion in /usr/local/lib/python3.12/dist-packages (1.7.1)\n",
            "Requirement already satisfied: openfermionpyscf in /usr/local/lib/python3.12/dist-packages (0.5)\n",
            "Requirement already satisfied: cirq-core>=1.4.1 in /usr/local/lib/python3.12/dist-packages (from openfermion) (1.6.1)\n",
            "Requirement already satisfied: deprecation in /usr/local/lib/python3.12/dist-packages (from openfermion) (2.1.0)\n",
            "Requirement already satisfied: h5py>=3.10.0 in /usr/local/lib/python3.12/dist-packages (from openfermion) (3.14.0)\n",
            "Requirement already satisfied: networkx in /usr/local/lib/python3.12/dist-packages (from openfermion) (3.5)\n",
            "Requirement already satisfied: numpy>=1.26 in /usr/local/lib/python3.12/dist-packages (from openfermion) (2.0.2)\n",
            "Requirement already satisfied: pubchempy in /usr/local/lib/python3.12/dist-packages (from openfermion) (1.0.5)\n",
            "Requirement already satisfied: requests~=2.32.2 in /usr/local/lib/python3.12/dist-packages (from openfermion) (2.32.4)\n",
            "Requirement already satisfied: scipy~=1.15 in /usr/local/lib/python3.12/dist-packages (from openfermion) (1.16.2)\n",
            "Requirement already satisfied: sympy in /usr/local/lib/python3.12/dist-packages (from openfermion) (1.13.3)\n",
            "Requirement already satisfied: pyscf in /usr/local/lib/python3.12/dist-packages (from openfermionpyscf) (2.10.0)\n",
            "Requirement already satisfied: pytest in /usr/local/lib/python3.12/dist-packages (from openfermionpyscf) (8.4.2)\n",
            "Requirement already satisfied: attrs>=21.3.0 in /usr/local/lib/python3.12/dist-packages (from cirq-core>=1.4.1->openfermion) (25.3.0)\n",
            "Requirement already satisfied: duet>=0.2.8 in /usr/local/lib/python3.12/dist-packages (from cirq-core>=1.4.1->openfermion) (0.2.9)\n",
            "Requirement already satisfied: matplotlib~=3.8 in /usr/local/lib/python3.12/dist-packages (from cirq-core>=1.4.1->openfermion) (3.10.0)\n",
            "Requirement already satisfied: pandas~=2.1 in /usr/local/lib/python3.12/dist-packages (from cirq-core>=1.4.1->openfermion) (2.2.2)\n",
            "Requirement already satisfied: sortedcontainers~=2.0 in /usr/local/lib/python3.12/dist-packages (from cirq-core>=1.4.1->openfermion) (2.4.0)\n",
            "Requirement already satisfied: typing_extensions>=4.2 in /usr/local/lib/python3.12/dist-packages (from cirq-core>=1.4.1->openfermion) (4.15.0)\n",
            "Requirement already satisfied: tqdm>=4.12 in /usr/local/lib/python3.12/dist-packages (from cirq-core>=1.4.1->openfermion) (4.67.1)\n",
            "Requirement already satisfied: charset_normalizer<4,>=2 in /usr/local/lib/python3.12/dist-packages (from requests~=2.32.2->openfermion) (3.4.3)\n",
            "Requirement already satisfied: idna<4,>=2.5 in /usr/local/lib/python3.12/dist-packages (from requests~=2.32.2->openfermion) (3.10)\n",
            "Requirement already satisfied: urllib3<3,>=1.21.1 in /usr/local/lib/python3.12/dist-packages (from requests~=2.32.2->openfermion) (2.5.0)\n",
            "Requirement already satisfied: certifi>=2017.4.17 in /usr/local/lib/python3.12/dist-packages (from requests~=2.32.2->openfermion) (2025.8.3)\n",
            "Requirement already satisfied: packaging in /usr/local/lib/python3.12/dist-packages (from deprecation->openfermion) (25.0)\n",
            "Requirement already satisfied: setuptools in /usr/local/lib/python3.12/dist-packages (from pyscf->openfermionpyscf) (75.2.0)\n",
            "Requirement already satisfied: iniconfig>=1 in /usr/local/lib/python3.12/dist-packages (from pytest->openfermionpyscf) (2.1.0)\n",
            "Requirement already satisfied: pluggy<2,>=1.5 in /usr/local/lib/python3.12/dist-packages (from pytest->openfermionpyscf) (1.6.0)\n",
            "Requirement already satisfied: pygments>=2.7.2 in /usr/local/lib/python3.12/dist-packages (from pytest->openfermionpyscf) (2.19.2)\n",
            "Requirement already satisfied: mpmath<1.4,>=1.1.0 in /usr/local/lib/python3.12/dist-packages (from sympy->openfermion) (1.3.0)\n",
            "Requirement already satisfied: contourpy>=1.0.1 in /usr/local/lib/python3.12/dist-packages (from matplotlib~=3.8->cirq-core>=1.4.1->openfermion) (1.3.3)\n",
            "Requirement already satisfied: cycler>=0.10 in /usr/local/lib/python3.12/dist-packages (from matplotlib~=3.8->cirq-core>=1.4.1->openfermion) (0.12.1)\n",
            "Requirement already satisfied: fonttools>=4.22.0 in /usr/local/lib/python3.12/dist-packages (from matplotlib~=3.8->cirq-core>=1.4.1->openfermion) (4.60.1)\n",
            "Requirement already satisfied: kiwisolver>=1.3.1 in /usr/local/lib/python3.12/dist-packages (from matplotlib~=3.8->cirq-core>=1.4.1->openfermion) (1.4.9)\n",
            "Requirement already satisfied: pillow>=8 in /usr/local/lib/python3.12/dist-packages (from matplotlib~=3.8->cirq-core>=1.4.1->openfermion) (11.3.0)\n",
            "Requirement already satisfied: pyparsing>=2.3.1 in /usr/local/lib/python3.12/dist-packages (from matplotlib~=3.8->cirq-core>=1.4.1->openfermion) (3.2.5)\n",
            "Requirement already satisfied: python-dateutil>=2.7 in /usr/local/lib/python3.12/dist-packages (from matplotlib~=3.8->cirq-core>=1.4.1->openfermion) (2.9.0.post0)\n",
            "Requirement already satisfied: pytz>=2020.1 in /usr/local/lib/python3.12/dist-packages (from pandas~=2.1->cirq-core>=1.4.1->openfermion) (2025.2)\n",
            "Requirement already satisfied: tzdata>=2022.7 in /usr/local/lib/python3.12/dist-packages (from pandas~=2.1->cirq-core>=1.4.1->openfermion) (2025.2)\n",
            "Requirement already satisfied: six>=1.5 in /usr/local/lib/python3.12/dist-packages (from python-dateutil>=2.7->matplotlib~=3.8->cirq-core>=1.4.1->openfermion) (1.17.0)\n"
          ]
        }
      ]
    },
    {
      "cell_type": "markdown",
      "source": [
        "### **Data Preparation**"
      ],
      "metadata": {
        "id": "uKc22Dy8hTvc"
      }
    },
    {
      "cell_type": "code",
      "source": [
        "url = 'https://raw.githubusercontent.com/TastelessCandyzzz/Quantum_Chem_Hackathon/main/bace.csv'"
      ],
      "metadata": {
        "id": "a8mRio0YhYEK"
      },
      "execution_count": null,
      "outputs": []
    },
    {
      "cell_type": "code",
      "source": [
        "import pandas as pd\n",
        "df = pd.read_csv(url,usecols=[\"mol\",\"Class\",\"MW\"])\n",
        "print(df.head())"
      ],
      "metadata": {
        "colab": {
          "base_uri": "https://localhost:8080/"
        },
        "id": "a-P54YdM-Vuq",
        "outputId": "84c9a48a-5e1e-4003-e3d5-441c68794f49"
      },
      "execution_count": 1,
      "outputs": [
        {
          "output_type": "stream",
          "name": "stdout",
          "text": [
            "                                                 mol  Class         MW\n",
            "0  O1CC[C@@H](NC(=O)[C@@H](Cc2cc3cc(ccc3nc2N)-c2c...      1  431.56979\n",
            "1  Fc1cc(cc(F)c1)C[C@H](NC(=O)[C@@H](N1CC[C@](NC(...      1  657.81073\n",
            "2  S1(=O)(=O)N(c2cc(cc3c2n(cc3CC)CC1)C(=O)N[C@H](...      1  591.74091\n",
            "3  S1(=O)(=O)C[C@@H](Cc2cc(O[C@H](COCC)C(F)(F)F)c...      1  591.67828\n",
            "4  S1(=O)(=O)N(c2cc(cc3c2n(cc3CC)CC1)C(=O)N[C@H](...      1  629.71283\n"
          ]
        }
      ]
    },
    {
      "cell_type": "code",
      "source": [
        "df=df.loc[df[\"MW\"]<200]\n",
        "del df[\"MW\"]"
      ],
      "metadata": {
        "id": "qAQoKoKQynjZ",
        "colab": {
          "base_uri": "https://localhost:8080/",
          "height": 331
        },
        "outputId": "55d29f02-22c4-41ec-e920-139a8e466334"
      },
      "execution_count": 2,
      "outputs": [
        {
          "output_type": "execute_result",
          "data": {
            "text/plain": [
              "                            mol  Class\n",
              "192       n1cccc(NCc2ccccc2)c1N      0\n",
              "194   Fc1ccc(cc1)CC1CC[NH2+]CC1      0\n",
              "200           n1ccc2c(cccc2)c1N      0\n",
              "201           n1c2c(ccc1N)cccc2      0\n",
              "203        O=C1NC(=NC(=C1)CCC)N      0\n",
              "245       Oc1ccc(cc1CC)CC[NH3+]      1\n",
              "246      Oc1ccc(cc1)CC([NH3+])C      1\n",
              "247         Oc1ccc(cc1)CC[NH3+]      1\n",
              "1506      Clc1cc2nc([nH]c2cc1)N      0"
            ],
            "text/html": [
              "\n",
              "  <div id=\"df-5005dac5-22a9-4ee7-8e47-e9019cf46488\" class=\"colab-df-container\">\n",
              "    <div>\n",
              "<style scoped>\n",
              "    .dataframe tbody tr th:only-of-type {\n",
              "        vertical-align: middle;\n",
              "    }\n",
              "\n",
              "    .dataframe tbody tr th {\n",
              "        vertical-align: top;\n",
              "    }\n",
              "\n",
              "    .dataframe thead th {\n",
              "        text-align: right;\n",
              "    }\n",
              "</style>\n",
              "<table border=\"1\" class=\"dataframe\">\n",
              "  <thead>\n",
              "    <tr style=\"text-align: right;\">\n",
              "      <th></th>\n",
              "      <th>mol</th>\n",
              "      <th>Class</th>\n",
              "    </tr>\n",
              "  </thead>\n",
              "  <tbody>\n",
              "    <tr>\n",
              "      <th>192</th>\n",
              "      <td>n1cccc(NCc2ccccc2)c1N</td>\n",
              "      <td>0</td>\n",
              "    </tr>\n",
              "    <tr>\n",
              "      <th>194</th>\n",
              "      <td>Fc1ccc(cc1)CC1CC[NH2+]CC1</td>\n",
              "      <td>0</td>\n",
              "    </tr>\n",
              "    <tr>\n",
              "      <th>200</th>\n",
              "      <td>n1ccc2c(cccc2)c1N</td>\n",
              "      <td>0</td>\n",
              "    </tr>\n",
              "    <tr>\n",
              "      <th>201</th>\n",
              "      <td>n1c2c(ccc1N)cccc2</td>\n",
              "      <td>0</td>\n",
              "    </tr>\n",
              "    <tr>\n",
              "      <th>203</th>\n",
              "      <td>O=C1NC(=NC(=C1)CCC)N</td>\n",
              "      <td>0</td>\n",
              "    </tr>\n",
              "    <tr>\n",
              "      <th>245</th>\n",
              "      <td>Oc1ccc(cc1CC)CC[NH3+]</td>\n",
              "      <td>1</td>\n",
              "    </tr>\n",
              "    <tr>\n",
              "      <th>246</th>\n",
              "      <td>Oc1ccc(cc1)CC([NH3+])C</td>\n",
              "      <td>1</td>\n",
              "    </tr>\n",
              "    <tr>\n",
              "      <th>247</th>\n",
              "      <td>Oc1ccc(cc1)CC[NH3+]</td>\n",
              "      <td>1</td>\n",
              "    </tr>\n",
              "    <tr>\n",
              "      <th>1506</th>\n",
              "      <td>Clc1cc2nc([nH]c2cc1)N</td>\n",
              "      <td>0</td>\n",
              "    </tr>\n",
              "  </tbody>\n",
              "</table>\n",
              "</div>\n",
              "    <div class=\"colab-df-buttons\">\n",
              "\n",
              "  <div class=\"colab-df-container\">\n",
              "    <button class=\"colab-df-convert\" onclick=\"convertToInteractive('df-5005dac5-22a9-4ee7-8e47-e9019cf46488')\"\n",
              "            title=\"Convert this dataframe to an interactive table.\"\n",
              "            style=\"display:none;\">\n",
              "\n",
              "  <svg xmlns=\"http://www.w3.org/2000/svg\" height=\"24px\" viewBox=\"0 -960 960 960\">\n",
              "    <path d=\"M120-120v-720h720v720H120Zm60-500h600v-160H180v160Zm220 220h160v-160H400v160Zm0 220h160v-160H400v160ZM180-400h160v-160H180v160Zm440 0h160v-160H620v160ZM180-180h160v-160H180v160Zm440 0h160v-160H620v160Z\"/>\n",
              "  </svg>\n",
              "    </button>\n",
              "\n",
              "  <style>\n",
              "    .colab-df-container {\n",
              "      display:flex;\n",
              "      gap: 12px;\n",
              "    }\n",
              "\n",
              "    .colab-df-convert {\n",
              "      background-color: #E8F0FE;\n",
              "      border: none;\n",
              "      border-radius: 50%;\n",
              "      cursor: pointer;\n",
              "      display: none;\n",
              "      fill: #1967D2;\n",
              "      height: 32px;\n",
              "      padding: 0 0 0 0;\n",
              "      width: 32px;\n",
              "    }\n",
              "\n",
              "    .colab-df-convert:hover {\n",
              "      background-color: #E2EBFA;\n",
              "      box-shadow: 0px 1px 2px rgba(60, 64, 67, 0.3), 0px 1px 3px 1px rgba(60, 64, 67, 0.15);\n",
              "      fill: #174EA6;\n",
              "    }\n",
              "\n",
              "    .colab-df-buttons div {\n",
              "      margin-bottom: 4px;\n",
              "    }\n",
              "\n",
              "    [theme=dark] .colab-df-convert {\n",
              "      background-color: #3B4455;\n",
              "      fill: #D2E3FC;\n",
              "    }\n",
              "\n",
              "    [theme=dark] .colab-df-convert:hover {\n",
              "      background-color: #434B5C;\n",
              "      box-shadow: 0px 1px 3px 1px rgba(0, 0, 0, 0.15);\n",
              "      filter: drop-shadow(0px 1px 2px rgba(0, 0, 0, 0.3));\n",
              "      fill: #FFFFFF;\n",
              "    }\n",
              "  </style>\n",
              "\n",
              "    <script>\n",
              "      const buttonEl =\n",
              "        document.querySelector('#df-5005dac5-22a9-4ee7-8e47-e9019cf46488 button.colab-df-convert');\n",
              "      buttonEl.style.display =\n",
              "        google.colab.kernel.accessAllowed ? 'block' : 'none';\n",
              "\n",
              "      async function convertToInteractive(key) {\n",
              "        const element = document.querySelector('#df-5005dac5-22a9-4ee7-8e47-e9019cf46488');\n",
              "        const dataTable =\n",
              "          await google.colab.kernel.invokeFunction('convertToInteractive',\n",
              "                                                    [key], {});\n",
              "        if (!dataTable) return;\n",
              "\n",
              "        const docLinkHtml = 'Like what you see? Visit the ' +\n",
              "          '<a target=\"_blank\" href=https://colab.research.google.com/notebooks/data_table.ipynb>data table notebook</a>'\n",
              "          + ' to learn more about interactive tables.';\n",
              "        element.innerHTML = '';\n",
              "        dataTable['output_type'] = 'display_data';\n",
              "        await google.colab.output.renderOutput(dataTable, element);\n",
              "        const docLink = document.createElement('div');\n",
              "        docLink.innerHTML = docLinkHtml;\n",
              "        element.appendChild(docLink);\n",
              "      }\n",
              "    </script>\n",
              "  </div>\n",
              "\n",
              "\n",
              "    <div id=\"df-e6cc7729-c7cd-4aee-a59d-4d7dd7860adb\">\n",
              "      <button class=\"colab-df-quickchart\" onclick=\"quickchart('df-e6cc7729-c7cd-4aee-a59d-4d7dd7860adb')\"\n",
              "                title=\"Suggest charts\"\n",
              "                style=\"display:none;\">\n",
              "\n",
              "<svg xmlns=\"http://www.w3.org/2000/svg\" height=\"24px\"viewBox=\"0 0 24 24\"\n",
              "     width=\"24px\">\n",
              "    <g>\n",
              "        <path d=\"M19 3H5c-1.1 0-2 .9-2 2v14c0 1.1.9 2 2 2h14c1.1 0 2-.9 2-2V5c0-1.1-.9-2-2-2zM9 17H7v-7h2v7zm4 0h-2V7h2v10zm4 0h-2v-4h2v4z\"/>\n",
              "    </g>\n",
              "</svg>\n",
              "      </button>\n",
              "\n",
              "<style>\n",
              "  .colab-df-quickchart {\n",
              "      --bg-color: #E8F0FE;\n",
              "      --fill-color: #1967D2;\n",
              "      --hover-bg-color: #E2EBFA;\n",
              "      --hover-fill-color: #174EA6;\n",
              "      --disabled-fill-color: #AAA;\n",
              "      --disabled-bg-color: #DDD;\n",
              "  }\n",
              "\n",
              "  [theme=dark] .colab-df-quickchart {\n",
              "      --bg-color: #3B4455;\n",
              "      --fill-color: #D2E3FC;\n",
              "      --hover-bg-color: #434B5C;\n",
              "      --hover-fill-color: #FFFFFF;\n",
              "      --disabled-bg-color: #3B4455;\n",
              "      --disabled-fill-color: #666;\n",
              "  }\n",
              "\n",
              "  .colab-df-quickchart {\n",
              "    background-color: var(--bg-color);\n",
              "    border: none;\n",
              "    border-radius: 50%;\n",
              "    cursor: pointer;\n",
              "    display: none;\n",
              "    fill: var(--fill-color);\n",
              "    height: 32px;\n",
              "    padding: 0;\n",
              "    width: 32px;\n",
              "  }\n",
              "\n",
              "  .colab-df-quickchart:hover {\n",
              "    background-color: var(--hover-bg-color);\n",
              "    box-shadow: 0 1px 2px rgba(60, 64, 67, 0.3), 0 1px 3px 1px rgba(60, 64, 67, 0.15);\n",
              "    fill: var(--button-hover-fill-color);\n",
              "  }\n",
              "\n",
              "  .colab-df-quickchart-complete:disabled,\n",
              "  .colab-df-quickchart-complete:disabled:hover {\n",
              "    background-color: var(--disabled-bg-color);\n",
              "    fill: var(--disabled-fill-color);\n",
              "    box-shadow: none;\n",
              "  }\n",
              "\n",
              "  .colab-df-spinner {\n",
              "    border: 2px solid var(--fill-color);\n",
              "    border-color: transparent;\n",
              "    border-bottom-color: var(--fill-color);\n",
              "    animation:\n",
              "      spin 1s steps(1) infinite;\n",
              "  }\n",
              "\n",
              "  @keyframes spin {\n",
              "    0% {\n",
              "      border-color: transparent;\n",
              "      border-bottom-color: var(--fill-color);\n",
              "      border-left-color: var(--fill-color);\n",
              "    }\n",
              "    20% {\n",
              "      border-color: transparent;\n",
              "      border-left-color: var(--fill-color);\n",
              "      border-top-color: var(--fill-color);\n",
              "    }\n",
              "    30% {\n",
              "      border-color: transparent;\n",
              "      border-left-color: var(--fill-color);\n",
              "      border-top-color: var(--fill-color);\n",
              "      border-right-color: var(--fill-color);\n",
              "    }\n",
              "    40% {\n",
              "      border-color: transparent;\n",
              "      border-right-color: var(--fill-color);\n",
              "      border-top-color: var(--fill-color);\n",
              "    }\n",
              "    60% {\n",
              "      border-color: transparent;\n",
              "      border-right-color: var(--fill-color);\n",
              "    }\n",
              "    80% {\n",
              "      border-color: transparent;\n",
              "      border-right-color: var(--fill-color);\n",
              "      border-bottom-color: var(--fill-color);\n",
              "    }\n",
              "    90% {\n",
              "      border-color: transparent;\n",
              "      border-bottom-color: var(--fill-color);\n",
              "    }\n",
              "  }\n",
              "</style>\n",
              "\n",
              "      <script>\n",
              "        async function quickchart(key) {\n",
              "          const quickchartButtonEl =\n",
              "            document.querySelector('#' + key + ' button');\n",
              "          quickchartButtonEl.disabled = true;  // To prevent multiple clicks.\n",
              "          quickchartButtonEl.classList.add('colab-df-spinner');\n",
              "          try {\n",
              "            const charts = await google.colab.kernel.invokeFunction(\n",
              "                'suggestCharts', [key], {});\n",
              "          } catch (error) {\n",
              "            console.error('Error during call to suggestCharts:', error);\n",
              "          }\n",
              "          quickchartButtonEl.classList.remove('colab-df-spinner');\n",
              "          quickchartButtonEl.classList.add('colab-df-quickchart-complete');\n",
              "        }\n",
              "        (() => {\n",
              "          let quickchartButtonEl =\n",
              "            document.querySelector('#df-e6cc7729-c7cd-4aee-a59d-4d7dd7860adb button');\n",
              "          quickchartButtonEl.style.display =\n",
              "            google.colab.kernel.accessAllowed ? 'block' : 'none';\n",
              "        })();\n",
              "      </script>\n",
              "    </div>\n",
              "\n",
              "  <div id=\"id_e63981c4-6405-4b95-be6b-7d4ad2affa69\">\n",
              "    <style>\n",
              "      .colab-df-generate {\n",
              "        background-color: #E8F0FE;\n",
              "        border: none;\n",
              "        border-radius: 50%;\n",
              "        cursor: pointer;\n",
              "        display: none;\n",
              "        fill: #1967D2;\n",
              "        height: 32px;\n",
              "        padding: 0 0 0 0;\n",
              "        width: 32px;\n",
              "      }\n",
              "\n",
              "      .colab-df-generate:hover {\n",
              "        background-color: #E2EBFA;\n",
              "        box-shadow: 0px 1px 2px rgba(60, 64, 67, 0.3), 0px 1px 3px 1px rgba(60, 64, 67, 0.15);\n",
              "        fill: #174EA6;\n",
              "      }\n",
              "\n",
              "      [theme=dark] .colab-df-generate {\n",
              "        background-color: #3B4455;\n",
              "        fill: #D2E3FC;\n",
              "      }\n",
              "\n",
              "      [theme=dark] .colab-df-generate:hover {\n",
              "        background-color: #434B5C;\n",
              "        box-shadow: 0px 1px 3px 1px rgba(0, 0, 0, 0.15);\n",
              "        filter: drop-shadow(0px 1px 2px rgba(0, 0, 0, 0.3));\n",
              "        fill: #FFFFFF;\n",
              "      }\n",
              "    </style>\n",
              "    <button class=\"colab-df-generate\" onclick=\"generateWithVariable('df')\"\n",
              "            title=\"Generate code using this dataframe.\"\n",
              "            style=\"display:none;\">\n",
              "\n",
              "  <svg xmlns=\"http://www.w3.org/2000/svg\" height=\"24px\"viewBox=\"0 0 24 24\"\n",
              "       width=\"24px\">\n",
              "    <path d=\"M7,19H8.4L18.45,9,17,7.55,7,17.6ZM5,21V16.75L18.45,3.32a2,2,0,0,1,2.83,0l1.4,1.43a1.91,1.91,0,0,1,.58,1.4,1.91,1.91,0,0,1-.58,1.4L9.25,21ZM18.45,9,17,7.55Zm-12,3A5.31,5.31,0,0,0,4.9,8.1,5.31,5.31,0,0,0,1,6.5,5.31,5.31,0,0,0,4.9,4.9,5.31,5.31,0,0,0,6.5,1,5.31,5.31,0,0,0,8.1,4.9,5.31,5.31,0,0,0,12,6.5,5.46,5.46,0,0,0,6.5,12Z\"/>\n",
              "  </svg>\n",
              "    </button>\n",
              "    <script>\n",
              "      (() => {\n",
              "      const buttonEl =\n",
              "        document.querySelector('#id_e63981c4-6405-4b95-be6b-7d4ad2affa69 button.colab-df-generate');\n",
              "      buttonEl.style.display =\n",
              "        google.colab.kernel.accessAllowed ? 'block' : 'none';\n",
              "\n",
              "      buttonEl.onclick = () => {\n",
              "        google.colab.notebook.generateWithVariable('df');\n",
              "      }\n",
              "      })();\n",
              "    </script>\n",
              "  </div>\n",
              "\n",
              "    </div>\n",
              "  </div>\n"
            ],
            "application/vnd.google.colaboratory.intrinsic+json": {
              "type": "dataframe",
              "variable_name": "df",
              "summary": "{\n  \"name\": \"df\",\n  \"rows\": 9,\n  \"fields\": [\n    {\n      \"column\": \"mol\",\n      \"properties\": {\n        \"dtype\": \"string\",\n        \"num_unique_values\": 9,\n        \"samples\": [\n          \"Oc1ccc(cc1)CC[NH3+]\",\n          \"Fc1ccc(cc1)CC1CC[NH2+]CC1\",\n          \"Oc1ccc(cc1CC)CC[NH3+]\"\n        ],\n        \"semantic_type\": \"\",\n        \"description\": \"\"\n      }\n    },\n    {\n      \"column\": \"Class\",\n      \"properties\": {\n        \"dtype\": \"number\",\n        \"std\": 0,\n        \"min\": 0,\n        \"max\": 1,\n        \"num_unique_values\": 2,\n        \"samples\": [\n          1,\n          0\n        ],\n        \"semantic_type\": \"\",\n        \"description\": \"\"\n      }\n    }\n  ]\n}"
            }
          },
          "metadata": {},
          "execution_count": 2
        }
      ]
    },
    {
      "cell_type": "code",
      "source": [
        "from rdkit import Chem\n",
        "from rdkit.Chem import AllChem\n",
        "import pandas as pd\n",
        "import numpy as np\n",
        "\n",
        "def smiles_to_fingerprint(smiles, radius=2, n_bits=1024):\n",
        "    mol = Chem.MolFromSmiles(smiles)\n",
        "    if mol:\n",
        "        fp = AllChem.GetMorganFingerprintAsBitVect(mol, radius, nBits=n_bits)\n",
        "        return np.array(fp)\n",
        "    else:\n",
        "        return np.zeros((n_bits,))\n",
        "\n",
        "# Apply to all molecules\n",
        "df['features'] = df['mol'].apply(smiles_to_fingerprint)"
      ],
      "metadata": {
        "colab": {
          "base_uri": "https://localhost:8080/"
        },
        "id": "zs_lBqDK_POI",
        "outputId": "47c2a183-31f0-4f03-e1b7-3d74b624631f",
        "collapsed": true
      },
      "execution_count": 3,
      "outputs": [
        {
          "output_type": "stream",
          "name": "stderr",
          "text": [
            "[09:42:09] DEPRECATION WARNING: please use MorganGenerator\n",
            "[09:42:09] DEPRECATION WARNING: please use MorganGenerator\n",
            "[09:42:09] DEPRECATION WARNING: please use MorganGenerator\n",
            "[09:42:09] DEPRECATION WARNING: please use MorganGenerator\n",
            "[09:42:09] DEPRECATION WARNING: please use MorganGenerator\n",
            "[09:42:09] DEPRECATION WARNING: please use MorganGenerator\n",
            "[09:42:09] DEPRECATION WARNING: please use MorganGenerator\n",
            "[09:42:09] DEPRECATION WARNING: please use MorganGenerator\n",
            "[09:42:09] DEPRECATION WARNING: please use MorganGenerator\n"
          ]
        }
      ]
    },
    {
      "cell_type": "code",
      "source": [
        "X = np.stack(df[\"features\"])  # Convert feature column into a NumPy matrix\n",
        "y = df['Class']"
      ],
      "metadata": {
        "id": "gOkAWfzpJGWm"
      },
      "execution_count": 75,
      "outputs": []
    },
    {
      "cell_type": "markdown",
      "source": [
        "## **Calculating Qubit Hamiltonian, VQE ground-state energy, Hartree–Fock energy, Correlation energy, HOMO LUMO Gap and Dipole Moment**"
      ],
      "metadata": {
        "id": "R-U77wkcinS3"
      }
    },
    {
      "cell_type": "code",
      "source": [
        "import numpy as np\n",
        "from rdkit import Chem\n",
        "from rdkit.Chem import AllChem, rdmolops, Descriptors\n",
        "\n",
        "# --- PySCF Imports ---\n",
        "from pyscf import gto, scf\n",
        "\n",
        "# --- Qiskit Core Imports ---\n",
        "from qiskit import transpile\n",
        "from qiskit_aer import AerSimulator\n",
        "from qiskit.circuit.library import efficient_su2\n",
        "from qiskit_algorithms.minimum_eigensolvers import VQE\n",
        "from qiskit_algorithms.optimizers import COBYLA\n",
        "from qiskit.primitives import BackendEstimatorV2\n",
        "\n",
        "# --- Qiskit Nature Imports ---\n",
        "from qiskit_nature.units import DistanceUnit\n",
        "from qiskit_nature.second_q.drivers import PySCFDriver\n",
        "from qiskit_nature.second_q.mappers import JordanWignerMapper\n",
        "from qiskit_nature.second_q.transformers import ActiveSpaceTransformer, FreezeCoreTransformer\n",
        "\n",
        "# ============================================================\n",
        "# Helper: Generate 3D geometry from an RDKit Mol object\n",
        "# ============================================================\n",
        "def mol_to_geometry(mol: Chem.Mol):\n",
        "    mol = Chem.AddHs(mol)\n",
        "    AllChem.EmbedMolecule(mol, AllChem.ETKDG())\n",
        "    AllChem.UFFOptimizeMolecule(mol)\n",
        "    atoms = mol.GetAtoms()\n",
        "    conf = mol.GetConformer()\n",
        "    return \"; \".join(\n",
        "        f\"{atom.GetSymbol()} \"\n",
        "        f\"{conf.GetAtomPosition(atom.GetIdx()).x:.4f} \"\n",
        "        f\"{conf.GetAtomPosition(atom.GetIdx()).y:.4f} \"\n",
        "        f\"{conf.GetAtomPosition(atom.GetIdx()).z:.4f}\"\n",
        "        for atom in atoms\n",
        "    )\n",
        "\n",
        "# ============================================================\n",
        "# Step 1: Convert geometry → qubit Hamiltonian\n",
        "# ============================================================\n",
        "def molecule_to_qubit_hamiltonian(\n",
        "    geometry,\n",
        "    basis=\"sto3g\",\n",
        "    charge=0,\n",
        "    spin_multiplicity=1,\n",
        "    active_electrons=2,\n",
        "    active_orbitals=2,\n",
        "):\n",
        "    driver = PySCFDriver(\n",
        "        atom=geometry, basis=basis, charge=charge,\n",
        "        spin=(spin_multiplicity - 1), unit=DistanceUnit.ANGSTROM\n",
        "    )\n",
        "    es_problem = driver.run()\n",
        "    freezer = FreezeCoreTransformer(freeze_core=True)\n",
        "    transformer = ActiveSpaceTransformer(\n",
        "        num_electrons=active_electrons, num_spatial_orbitals=active_orbitals\n",
        "    )\n",
        "    es_problem = freezer.transform(es_problem)\n",
        "    es_problem = transformer.transform(es_problem)\n",
        "    mapper = JordanWignerMapper()\n",
        "    second_q_hamiltonian = es_problem.second_q_ops()[0]\n",
        "    return {\"qubit_operator\": mapper.map(second_q_hamiltonian), \"es_problem\": es_problem}\n",
        "\n",
        "# ============================================================\n",
        "# Step 2: Main function to compute all descriptors\n",
        "# ============================================================\n",
        "def compute_quantum_descriptors(\n",
        "    smiles: str,\n",
        "    basis: str = \"sto3g\",\n",
        "    active_electrons: int or tuple = 2,\n",
        "    active_orbitals: int = 2,\n",
        "):\n",
        "    mol_rdkit = Chem.MolFromSmiles(smiles)\n",
        "    if mol_rdkit is None:\n",
        "        raise ValueError(\"Invalid SMILES string provided.\")\n",
        "\n",
        "    charge = rdmolops.GetFormalCharge(mol_rdkit)\n",
        "    num_radical_electrons = Descriptors.NumRadicalElectrons(mol_rdkit)\n",
        "    spin_multiplicity = num_radical_electrons + 1\n",
        "\n",
        "    print(f\"\\n[•] Processing molecule: {smiles}\")\n",
        "    print(f\"[i] Auto-detected Charge: {charge}, Auto-detected Spin: {spin_multiplicity}\")\n",
        "\n",
        "    geometry = mol_to_geometry(mol_rdkit)\n",
        "    out = molecule_to_qubit_hamiltonian(\n",
        "        geometry, basis, charge, spin_multiplicity, active_electrons, active_orbitals\n",
        "    )\n",
        "    qubit_op, es_problem = out[\"qubit_operator\"], out[\"es_problem\"]\n",
        "    hf_energy = es_problem.reference_energy\n",
        "    print(f\"[+] Hartree–Fock energy: {hf_energy:.6f} Hartree\")\n",
        "\n",
        "    backend_sim = AerSimulator()\n",
        "    estimator = BackendEstimatorV2(backend=backend_sim)\n",
        "    ansatz = efficient_su2(qubit_op.num_qubits, reps=2, entanglement=\"linear\")\n",
        "    ansatz = transpile(ansatz, backend=backend_sim)\n",
        "    optimizer = COBYLA(maxiter=200)\n",
        "    vqe_solver = VQE(estimator, ansatz, optimizer)\n",
        "    vqe_result = vqe_solver.compute_minimum_eigenvalue(qubit_op)\n",
        "    vqe_energy = vqe_result.eigenvalue.real\n",
        "    print(f\"[+] VQE ground-state energy: {vqe_energy:.6f} Hartree\")\n",
        "\n",
        "    # --- PySCF calculations for additional properties ---\n",
        "    mol_pyscf = gto.Mole(\n",
        "        atom=geometry, basis=basis, charge=charge, spin=spin_multiplicity - 1\n",
        "    ).build()\n",
        "    mf = scf.RHF(mol_pyscf).run() if spin_multiplicity == 1 else scf.UHF(mol_pyscf).run()\n",
        "\n",
        "    # Using the robust, low-level dipole calculation\n",
        "    dm = mf.make_rdm1()\n",
        "    dip_ints = mf.mol.intor('int1e_r', comp=3)\n",
        "    elec_dip = -np.einsum('xij,ji->x', dip_ints, dm)\n",
        "    nuc_dip = np.einsum('i,ix->x', mf.mol.atom_charges(), mf.mol.atom_coords())\n",
        "    dipole_vector = elec_dip + nuc_dip\n",
        "    dipole_moment = np.linalg.norm(dipole_vector)\n",
        "\n",
        "    # --- Property Extraction ---\n",
        "    if es_problem.orbital_energies_b is None:\n",
        "        num_occupied = es_problem.num_alpha\n",
        "        homo_energy = es_problem.orbital_energies[num_occupied - 1]\n",
        "        lumo_energy = es_problem.orbital_energies[num_occupied]\n",
        "    else:\n",
        "        alpha_homo = es_problem.orbital_energies[es_problem.num_alpha - 1]\n",
        "        beta_homo = es_problem.orbital_energies_b[es_problem.num_beta - 1]\n",
        "        homo_energy = max(alpha_homo, beta_homo)\n",
        "        lumo_energy = es_problem.orbital_energies[es_problem.num_alpha]\n",
        "\n",
        "    # --- Collect all descriptors ---\n",
        "    return {\n",
        "        \"smiles\": smiles,\n",
        "        \"charge\": charge,\n",
        "        \"spin_multiplicity\": spin_multiplicity,\n",
        "        \"hf_energy\": hf_energy,\n",
        "        \"vqe_energy\": vqe_energy,\n",
        "        \"correlation_energy\": hf_energy - vqe_energy,\n",
        "        \"n_qubits\": qubit_op.num_qubits,\n",
        "        \"homo_energy\": homo_energy,\n",
        "        \"lumo_energy\": lumo_energy,\n",
        "        \"homo_lumo_gap\": lumo_energy - homo_energy,\n",
        "        \"dipole_moment\": dipole_moment,\n",
        "    }\n",
        "\n",
        "# ============================================================\n",
        "# Example Run\n",
        "# ============================================================\n",
        "if __name__ == \"__main__\":\n",
        "    hydroxide_results = compute_quantum_descriptors(smiles=\"[OH-]\")\n",
        "    print(\"\\n--- Final Descriptors for [OH-] ---\")\n",
        "    for key, value in hydroxide_results.items():\n",
        "        print(f\"{key:<20}: {value:.6f}\" if isinstance(value, float) else f\"{key:<20}: {value}\")\n",
        "    print(\"-----------------------------------\")"
      ],
      "metadata": {
        "colab": {
          "base_uri": "https://localhost:8080/"
        },
        "id": "VatcXo5DeCdB",
        "outputId": "77ffbcc6-2386-4833-df38-8a03c7be3d60"
      },
      "execution_count": 88,
      "outputs": [
        {
          "output_type": "stream",
          "name": "stdout",
          "text": [
            "\n",
            "[•] Processing molecule: [OH-]\n",
            "[i] Auto-detected Charge: -1, Auto-detected Spin: 1\n",
            "[+] Hartree–Fock energy: -74.060416 Hartree\n",
            "[+] VQE ground-state energy: -0.629590 Hartree\n",
            "converged SCF energy = -74.0604157013592\n",
            "\n",
            "--- Final Descriptors for [OH-] ---\n",
            "smiles              : [OH-]\n",
            "charge              : -1\n",
            "spin_multiplicity   : 1\n",
            "hf_energy           : -74.060416\n",
            "vqe_energy          : -0.629590\n",
            "correlation_energy  : -73.430825\n",
            "n_qubits            : 4\n",
            "homo_energy         : 0.247616\n",
            "lumo_energy         : 1.222037\n",
            "homo_lumo_gap       : 0.974422\n",
            "dipole_moment       : 0.804211\n",
            "-----------------------------------\n"
          ]
        }
      ]
    },
    {
      "cell_type": "code",
      "metadata": {
        "colab": {
          "base_uri": "https://localhost:8080/"
        },
        "id": "245524ec",
        "outputId": "b440b890-d3e5-4043-e1ab-3dccab0a46e6"
      },
      "source": [
        "import pandas as pd\n",
        "from tqdm import tqdm\n",
        "\n",
        "hf_energies = []\n",
        "vqe_energies = []\n",
        "corr_energies = []\n",
        "n_qubits_list = []\n",
        "homo_list = []\n",
        "lumo_list = []\n",
        "gap_list = []\n",
        "dipole_list = []\n",
        "\n",
        "for smiles in tqdm(df[\"mol\"], desc=\"Computing quantum descriptors\"):\n",
        "    try:\n",
        "        descriptors = compute_quantum_descriptors(smiles, active_electrons=2, active_orbitals=2)\n",
        "        if descriptors: # Check if descriptors were successfully computed (not None)\n",
        "            hf_energies.append(descriptors[\"hf_energy\"])\n",
        "            vqe_energies.append(descriptors[\"vqe_energy\"])\n",
        "            corr_energies.append(descriptors[\"correlation_energy\"])\n",
        "            n_qubits_list.append(descriptors[\"n_qubits\"])\n",
        "            homo_list.append(descriptors[\"homo_energy\"])\n",
        "            lumo_list.append(descriptors[\"lumo_energy\"])\n",
        "            gap_list.append(descriptors[\"homo_lumo_gap\"])\n",
        "            dipole_list.append(descriptors[\"dipole_moment\"])\n",
        "        else:\n",
        "            hf_energies.append(None)\n",
        "            vqe_energies.append(None)\n",
        "            corr_energies.append(None)\n",
        "            n_qubits_list.append(None)\n",
        "            homo_list.append(None)\n",
        "            lumo_list.append(None)\n",
        "            gap_list.append(None)\n",
        "            dipole_list.append(None)\n",
        "\n",
        "    except Exception as e:\n",
        "        print(f\"[!] Error processing molecule {smiles}: {e}\")\n",
        "        # Append None if an unexpected error occurs\n",
        "        hf_energies.append(None)\n",
        "        vqe_energies.append(None)\n",
        "        corr_energies.append(None)\n",
        "        n_qubits_list.append(None)\n",
        "        homo_list.append(None)\n",
        "        lumo_list.append(None)\n",
        "        gap_list.append(None)\n",
        "        dipole_list.append(None)\n",
        "\n",
        "df[\"hf_energy\"] = hf_energies\n",
        "df[\"vqe_energy\"] = vqe_energies\n",
        "df[\"correlation_energy\"] = corr_energies\n",
        "df[\"n_qubits\"] = n_qubits_list\n",
        "df[\"homo_energy\"] = homo_list\n",
        "df[\"lumo_energy\"] = lumo_list\n",
        "df[\"homo_lumo_gap\"] = gap_list\n",
        "df[\"dipole_moment\"] = dipole_list\n",
        "#df[\"polarizability\"] = polarizability_list\n",
        "\n",
        "print(\"\\n Quantum descriptors added successfully to df!\")\n",
        "print(df.head())\n",
        "\n",
        "df.to_csv(\"bace_with_quantum_features.csv\", index=False)\n",
        "from google.colab import files\n",
        "files.download(\"bace_with_subset.csv\")\n",
        "print(\"Saved as bace_with_quantum_features.csv\")"
      ],
      "execution_count": 33,
      "outputs": [
        {
          "output_type": "stream",
          "name": "stderr",
          "text": [
            "\rComputing quantum descriptors:   0%|          | 0/9 [00:00<?, ?it/s]"
          ]
        },
        {
          "output_type": "stream",
          "name": "stdout",
          "text": [
            "\n",
            "[•] Processing molecule: n1cccc(NCc2ccccc2)c1N\n",
            "[i] Auto-detected Charge: 0, Auto-detected Spin: 1\n",
            "[+] Hartree–Fock energy: -617.581672 Hartree\n",
            "[+] VQE ground-state energy: -0.682487 Hartree\n",
            "converged SCF energy = -617.581672336509\n"
          ]
        },
        {
          "output_type": "stream",
          "name": "stderr",
          "text": [
            "\rComputing quantum descriptors:  11%|█         | 1/9 [01:10<09:26, 70.87s/it]"
          ]
        },
        {
          "output_type": "stream",
          "name": "stdout",
          "text": [
            "\n",
            "[•] Processing molecule: Fc1ccc(cc1)CC1CC[NH2+]CC1\n",
            "[i] Auto-detected Charge: 1, Auto-detected Spin: 1\n",
            "[+] Hartree–Fock energy: -610.436124 Hartree\n",
            "[+] VQE ground-state energy: -1.011170 Hartree\n",
            "converged SCF energy = -610.436123922738\n"
          ]
        },
        {
          "output_type": "stream",
          "name": "stderr",
          "text": [
            "\rComputing quantum descriptors:  22%|██▏       | 2/9 [02:21<08:15, 70.77s/it]"
          ]
        },
        {
          "output_type": "stream",
          "name": "stdout",
          "text": [
            "\n",
            "[•] Processing molecule: n1ccc2c(cccc2)c1N\n",
            "[i] Auto-detected Charge: 0, Auto-detected Spin: 1\n",
            "[+] Hartree–Fock energy: -448.735581 Hartree\n",
            "[+] VQE ground-state energy: -0.486979 Hartree\n",
            "converged SCF energy = -448.735581347229\n"
          ]
        },
        {
          "output_type": "stream",
          "name": "stderr",
          "text": [
            "\rComputing quantum descriptors:  33%|███▎      | 3/9 [02:54<05:20, 53.45s/it]"
          ]
        },
        {
          "output_type": "stream",
          "name": "stdout",
          "text": [
            "\n",
            "[•] Processing molecule: n1c2c(ccc1N)cccc2\n",
            "[i] Auto-detected Charge: 0, Auto-detected Spin: 1\n",
            "[+] Hartree–Fock energy: -448.738868 Hartree\n",
            "[+] VQE ground-state energy: -0.622707 Hartree\n",
            "converged SCF energy = -448.738867731848\n"
          ]
        },
        {
          "output_type": "stream",
          "name": "stderr",
          "text": [
            "\rComputing quantum descriptors:  44%|████▍     | 4/9 [03:29<03:50, 46.10s/it]"
          ]
        },
        {
          "output_type": "stream",
          "name": "stdout",
          "text": [
            "\n",
            "[•] Processing molecule: O=C1NC(=NC(=C1)CCC)N\n",
            "[i] Auto-detected Charge: 0, Auto-detected Spin: 1\n",
            "[+] Hartree–Fock energy: -503.251281 Hartree\n",
            "[+] VQE ground-state energy: -0.713023 Hartree\n",
            "converged SCF energy = -503.251280731829\n"
          ]
        },
        {
          "output_type": "stream",
          "name": "stderr",
          "text": [
            "\rComputing quantum descriptors:  56%|█████▌    | 5/9 [04:05<02:50, 42.58s/it]"
          ]
        },
        {
          "output_type": "stream",
          "name": "stdout",
          "text": [
            "\n",
            "[•] Processing molecule: Oc1ccc(cc1CC)CC[NH3+]\n",
            "[i] Auto-detected Charge: 1, Auto-detected Spin: 1\n",
            "[+] Hartree–Fock energy: -510.778756 Hartree\n",
            "[+] VQE ground-state energy: -0.985798 Hartree\n",
            "converged SCF energy = -510.778756315542\n"
          ]
        },
        {
          "output_type": "stream",
          "name": "stderr",
          "text": [
            "\rComputing quantum descriptors:  67%|██████▋   | 6/9 [04:56<02:16, 45.45s/it]"
          ]
        },
        {
          "output_type": "stream",
          "name": "stdout",
          "text": [
            "\n",
            "[•] Processing molecule: Oc1ccc(cc1)CC([NH3+])C\n",
            "[i] Auto-detected Charge: 1, Auto-detected Spin: 1\n",
            "[+] Hartree–Fock energy: -472.207104 Hartree\n",
            "[+] VQE ground-state energy: -1.033497 Hartree\n",
            "converged SCF energy = -472.207104084374\n"
          ]
        },
        {
          "output_type": "stream",
          "name": "stderr",
          "text": [
            "\rComputing quantum descriptors:  78%|███████▊  | 7/9 [05:38<01:28, 44.30s/it]"
          ]
        },
        {
          "output_type": "stream",
          "name": "stdout",
          "text": [
            "\n",
            "[•] Processing molecule: Oc1ccc(cc1)CC[NH3+]\n",
            "[i] Auto-detected Charge: 1, Auto-detected Spin: 1\n",
            "[+] Hartree–Fock energy: -433.621565 Hartree\n",
            "[+] VQE ground-state energy: -0.997360 Hartree\n",
            "converged SCF energy = -433.62156537467\n"
          ]
        },
        {
          "output_type": "stream",
          "name": "stderr",
          "text": [
            "\rComputing quantum descriptors:  89%|████████▉ | 8/9 [06:16<00:42, 42.44s/it]"
          ]
        },
        {
          "output_type": "stream",
          "name": "stdout",
          "text": [
            "\n",
            "[•] Processing molecule: Clc1cc2nc([nH]c2cc1)N\n",
            "[i] Auto-detected Charge: 0, Auto-detected Spin: 1\n",
            "[+] Hartree–Fock energy: -881.091355 Hartree\n",
            "[+] VQE ground-state energy: -0.690594 Hartree\n",
            "converged SCF energy = -881.091355419743\n"
          ]
        },
        {
          "output_type": "stream",
          "name": "stderr",
          "text": [
            "Computing quantum descriptors: 100%|██████████| 9/9 [06:51<00:00, 45.68s/it]"
          ]
        },
        {
          "output_type": "stream",
          "name": "stdout",
          "text": [
            "\n",
            " Quantum descriptors added successfully to subset_df!\n",
            "                           mol  Class  \\\n",
            "192      n1cccc(NCc2ccccc2)c1N      0   \n",
            "194  Fc1ccc(cc1)CC1CC[NH2+]CC1      0   \n",
            "200          n1ccc2c(cccc2)c1N      0   \n",
            "201          n1c2c(ccc1N)cccc2      0   \n",
            "203       O=C1NC(=NC(=C1)CCC)N      0   \n",
            "\n",
            "                                              features   hf_energy  \\\n",
            "192  [0, 0, 0, 0, 0, 0, 0, 0, 0, 0, 0, 0, 0, 0, 0, ... -617.581672   \n",
            "194  [0, 0, 0, 0, 0, 0, 0, 0, 0, 0, 0, 0, 0, 0, 0, ... -610.436124   \n",
            "200  [0, 0, 0, 0, 0, 0, 0, 0, 0, 0, 0, 0, 0, 0, 0, ... -448.735581   \n",
            "201  [0, 0, 0, 0, 0, 0, 0, 0, 0, 0, 0, 0, 0, 0, 0, ... -448.738868   \n",
            "203  [0, 0, 0, 0, 0, 0, 0, 0, 0, 0, 0, 0, 0, 0, 0, ... -503.251281   \n",
            "\n",
            "     vqe_energy  correlation_energy  n_qubits  homo_energy  lumo_energy  \\\n",
            "192   -0.682487         -616.899185         4    -0.203192     0.251207   \n",
            "194   -1.011170         -609.424954         4    -0.346853     0.169082   \n",
            "200   -0.486979         -448.248602         4    -0.200886     0.194591   \n",
            "201   -0.622707         -448.116161         4    -0.211982     0.189398   \n",
            "203   -0.713023         -502.538258         4    -0.189968     0.221630   \n",
            "\n",
            "     homo_lumo_gap  dipole_moment  \n",
            "192       0.454400       1.032657  \n",
            "194       0.515935       5.733031  \n",
            "200       0.395477       0.736141  \n",
            "201       0.401380       0.700814  \n",
            "203       0.411598       1.630419  \n"
          ]
        },
        {
          "output_type": "stream",
          "name": "stderr",
          "text": [
            "\n"
          ]
        }
      ]
    },
    {
      "cell_type": "markdown",
      "source": [
        "## **Training ML Model Using Classically Obtained Features Only**"
      ],
      "metadata": {
        "id": "NuPfziUkj84g"
      }
    },
    {
      "cell_type": "code",
      "metadata": {
        "colab": {
          "base_uri": "https://localhost:8080/"
        },
        "id": "e048a27e",
        "outputId": "6662f8fb-6999-403a-9f85-dd520902a8ce"
      },
      "source": [
        "from sklearn.decomposition import PCA\n",
        "\n",
        "pca = PCA(n_components=0.95)\n",
        "pca.fit(X)\n",
        "X_pca = pca.transform(X)\n",
        "print(\"X_train shape after PCA:\", X_pca.shape)"
      ],
      "execution_count": 76,
      "outputs": [
        {
          "output_type": "stream",
          "name": "stdout",
          "text": [
            "X_train shape after PCA: (9, 7)\n"
          ]
        }
      ]
    },
    {
      "cell_type": "code",
      "source": [
        "from sklearn.model_selection import train_test_split\n",
        "\n",
        "X_train, X_test, y_train, y_test = train_test_split(X_pca, y, test_size=0.2, random_state=2)\n",
        "\n",
        "print(\"X_train shape:\", X_train.shape)\n",
        "print(\"X_test shape:\", X_test.shape)\n",
        "print(\"y_train shape:\", y_train.shape)\n",
        "print(\"y_test shape:\", y_test.shape)"
      ],
      "metadata": {
        "colab": {
          "base_uri": "https://localhost:8080/"
        },
        "id": "wff15f_DOcRg",
        "outputId": "e5e15548-210c-4f12-f88e-a65baeab1d4c"
      },
      "execution_count": 77,
      "outputs": [
        {
          "output_type": "stream",
          "name": "stdout",
          "text": [
            "X_train shape: (7, 7)\n",
            "X_test shape: (2, 7)\n",
            "y_train shape: (7,)\n",
            "y_test shape: (2,)\n"
          ]
        }
      ]
    },
    {
      "cell_type": "code",
      "source": [
        "from sklearn.ensemble import RandomForestRegressor\n",
        "from sklearn.tree import DecisionTreeRegressor\n",
        "\n",
        "# Initialize the Random Forest Regressor model\n",
        "rf_model = RandomForestRegressor(n_estimators=100, random_state=42)\n",
        "\n",
        "# Train the model\n",
        "rf_model.fit(X_train, y_train)\n",
        "\n",
        "print(\"Random Forest Regressor model trained successfully!\")"
      ],
      "metadata": {
        "colab": {
          "base_uri": "https://localhost:8080/"
        },
        "id": "Y9KXESURkggI",
        "outputId": "7edd483d-9b52-4a66-ee0a-bd77ea9d8567"
      },
      "execution_count": 80,
      "outputs": [
        {
          "output_type": "stream",
          "name": "stdout",
          "text": [
            "Random Forest Regressor model trained successfully!\n"
          ]
        }
      ]
    },
    {
      "cell_type": "code",
      "source": [
        "from sklearn.metrics import r2_score, mean_absolute_error, mean_squared_error\n",
        "\n",
        "# Make predictions on the test set\n",
        "y_pred = rf_model.predict(X_test)\n",
        "\n",
        "# Calculate evaluation metrics\n",
        "r2 = r2_score(y_test, y_pred)\n",
        "mae = mean_absolute_error(y_test, y_pred)\n",
        "mse = mean_squared_error(y_test, y_pred)\n",
        "rmse = np.sqrt(mse)\n",
        "\n",
        "# Print the evaluation metrics\n",
        "print(f\"R-squared (R2) Score: {r2:.4f}\")\n",
        "print(f\"Mean Absolute Error (MAE): {mae:.4f}\")\n",
        "print(f\"Mean Squared Error (MSE): {mse:.4f}\")\n",
        "print(f\"Root Mean Squared Error (RMSE): {rmse:.4f}\")"
      ],
      "metadata": {
        "colab": {
          "base_uri": "https://localhost:8080/"
        },
        "id": "mcAnE9nSkiUU",
        "outputId": "0a65ebdf-81a8-478a-e145-7addd40f7578"
      },
      "execution_count": 82,
      "outputs": [
        {
          "output_type": "stream",
          "name": "stdout",
          "text": [
            "R-squared (R2) Score: 0.0000\n",
            "Mean Absolute Error (MAE): 0.5050\n",
            "Mean Squared Error (MSE): 0.3102\n",
            "Root Mean Squared Error (RMSE): 0.5570\n"
          ]
        }
      ]
    },
    {
      "cell_type": "code",
      "source": [
        "from sklearn.dummy import DummyRegressor\n",
        "\n",
        "dummy = DummyRegressor(strategy=\"mean\")\n",
        "dummy.fit(X_train, y_train)\n",
        "baseline_score = dummy.score(X_test, y_test)\n",
        "print(f\"Baseline R²: {baseline_score}\")"
      ],
      "metadata": {
        "colab": {
          "base_uri": "https://localhost:8080/"
        },
        "id": "1rEl3fRzkkQC",
        "outputId": "71ec9a8e-6c71-45f8-c645-b81465185c5c"
      },
      "execution_count": 68,
      "outputs": [
        {
          "output_type": "stream",
          "name": "stdout",
          "text": [
            "Baseline R²: -0.18367346938775508\n"
          ]
        }
      ]
    },
    {
      "cell_type": "markdown",
      "source": [
        "## **Training ML Model Using the Quantum Features Also**"
      ],
      "metadata": {
        "id": "w1dIp3Kpkmde"
      }
    },
    {
      "cell_type": "code",
      "source": [
        "X_=np.array(pd.DataFrame(df,columns=[\"hf_energy\",\"vqe_energy\",\"homo_energy\",\"lumo_energy\",\"dipole_moment\"]))\n",
        "X_Q=np.hstack((X_pca,X_))\n",
        "\n",
        "from sklearn.model_selection import train_test_split\n",
        "X_train_Q, X_test_Q, y_train_Q, y_test_Q = train_test_split(X_Q, y, test_size=0.2, random_state=42)\n",
        "\n",
        "print(\"X_train shape:\", X_train_Q.shape)\n",
        "print(\"X_test shape:\", X_test_Q.shape)"
      ],
      "metadata": {
        "colab": {
          "base_uri": "https://localhost:8080/"
        },
        "id": "Dq23UCKslHuy",
        "outputId": "65c3fe91-9431-46b5-c63f-bb629a71010a"
      },
      "execution_count": 83,
      "outputs": [
        {
          "output_type": "stream",
          "name": "stdout",
          "text": [
            "X_train shape: (7, 12)\n",
            "X_test shape: (2, 12)\n"
          ]
        }
      ]
    },
    {
      "cell_type": "code",
      "source": [
        "from sklearn.ensemble import RandomForestRegressor\n",
        "from sklearn.tree import DecisionTreeRegressor\n",
        "\n",
        "# Initialize the Random Forest Regressor model\n",
        "rf_model = RandomForestRegressor(n_estimators=100, random_state=42)\n",
        "\n",
        "# Train the model\n",
        "rf_model.fit(X_train_Q, y_train_Q)\n",
        "\n",
        "print(\"Random Forest Regressor model trained successfully!\")"
      ],
      "metadata": {
        "colab": {
          "base_uri": "https://localhost:8080/"
        },
        "id": "tyYXvOMTnAsn",
        "outputId": "79c6c383-cc21-44ee-b80f-da2ef71315ab"
      },
      "execution_count": 84,
      "outputs": [
        {
          "output_type": "stream",
          "name": "stdout",
          "text": [
            "Random Forest Regressor model trained successfully!\n"
          ]
        }
      ]
    },
    {
      "cell_type": "code",
      "source": [
        "from sklearn.metrics import r2_score, mean_absolute_error, mean_squared_error\n",
        "\n",
        "# Make predictions on the test set\n",
        "y_pred = rf_model.predict(X_test_Q)\n",
        "\n",
        "# Calculate evaluation metrics\n",
        "r2 = r2_score(y_test_Q, y_pred)\n",
        "mae = mean_absolute_error(y_test_Q, y_pred)\n",
        "mse = mean_squared_error(y_test_Q, y_pred)\n",
        "rmse = np.sqrt(mse)\n",
        "\n",
        "# Print the evaluation metrics\n",
        "print(f\"R-squared (R2) Score: {r2:.4f}\")\n",
        "print(f\"Mean Absolute Error (MAE): {mae:.4f}\")\n",
        "print(f\"Mean Squared Error (MSE): {mse:.4f}\")\n",
        "print(f\"Root Mean Squared Error (RMSE): {rmse:.4f}\")"
      ],
      "metadata": {
        "colab": {
          "base_uri": "https://localhost:8080/"
        },
        "id": "8gguoh8GnCp-",
        "outputId": "df590a56-ec01-42f4-a616-b10c6fdf23b8"
      },
      "execution_count": 85,
      "outputs": [
        {
          "output_type": "stream",
          "name": "stdout",
          "text": [
            "R-squared (R2) Score: 0.0636\n",
            "Mean Absolute Error (MAE): 0.4600\n",
            "Mean Squared Error (MSE): 0.2341\n",
            "Root Mean Squared Error (RMSE): 0.4838\n"
          ]
        }
      ]
    },
    {
      "cell_type": "code",
      "source": [
        "from sklearn.dummy import DummyRegressor\n",
        "\n",
        "dummy = DummyRegressor(strategy=\"mean\")\n",
        "dummy.fit(X_train_Q, y_train_Q)\n",
        "baseline_score = dummy.score(X_test_Q, y_test_Q)\n",
        "print(f\"Baseline R²: {baseline_score}\")"
      ],
      "metadata": {
        "colab": {
          "base_uri": "https://localhost:8080/"
        },
        "id": "1-z6EpVBnEcH",
        "outputId": "fa34cb82-14c6-4d72-90ce-d8e0c9267657"
      },
      "execution_count": 87,
      "outputs": [
        {
          "output_type": "stream",
          "name": "stdout",
          "text": [
            "Baseline R²: -0.18367346938775508\n"
          ]
        }
      ]
    },
    {
      "cell_type": "code",
      "source": [],
      "metadata": {
        "id": "Y3Tqtk0JnUiI"
      },
      "execution_count": null,
      "outputs": []
    }
  ]
}
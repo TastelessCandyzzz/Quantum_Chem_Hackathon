{
  "nbformat": 4,
  "nbformat_minor": 0,
  "metadata": {
    "colab": {
      "provenance": [],
      "gpuType": "V5E1"
    },
    "kernelspec": {
      "name": "python3",
      "display_name": "Python 3"
    },
    "language_info": {
      "name": "python"
    },
    "accelerator": "TPU"
  },
  "cells": [
    {
      "cell_type": "markdown",
      "source": [
        "### **Requirements**"
      ],
      "metadata": {
        "id": "M83riC5AhIyN"
      }
    },
    {
      "cell_type": "code",
      "source": [
        "!pip install qiskit_nature\n",
        "!pip install pyscf\n",
        "!pip install rdkit\n",
        "!pip install qiskit_aer\n",
        "!pip install openfermion openfermionpyscf\n",
        "!pip install scikit-learn\n",
        "!pip install xgboost"
      ],
      "metadata": {
        "id": "qWkBRo1ZTRsz",
        "colab": {
          "base_uri": "https://localhost:8080/"
        },
        "outputId": "68e7a801-538d-4fd8-864d-9beb6f3d53ea",
        "collapsed": true
      },
      "execution_count": 7,
      "outputs": [
        {
          "output_type": "stream",
          "name": "stdout",
          "text": [
            "Collecting qiskit_nature\n",
            "  Downloading qiskit_nature-0.7.2-py3-none-any.whl.metadata (8.0 kB)\n",
            "Collecting qiskit>=0.44 (from qiskit_nature)\n",
            "  Downloading qiskit-2.2.1-cp39-abi3-manylinux2014_x86_64.manylinux_2_17_x86_64.whl.metadata (12 kB)\n",
            "Collecting qiskit-algorithms>=0.2.1 (from qiskit_nature)\n",
            "  Downloading qiskit_algorithms-0.4.0-py3-none-any.whl.metadata (4.7 kB)\n",
            "Requirement already satisfied: scipy>=1.4 in /usr/local/lib/python3.12/dist-packages (from qiskit_nature) (1.16.2)\n",
            "Requirement already satisfied: numpy>=1.17 in /usr/local/lib/python3.12/dist-packages (from qiskit_nature) (2.0.2)\n",
            "Requirement already satisfied: psutil>=5 in /usr/local/lib/python3.12/dist-packages (from qiskit_nature) (5.9.5)\n",
            "Requirement already satisfied: setuptools>=40.1.0 in /usr/local/lib/python3.12/dist-packages (from qiskit_nature) (75.2.0)\n",
            "Requirement already satisfied: typing-extensions in /usr/local/lib/python3.12/dist-packages (from qiskit_nature) (4.15.0)\n",
            "Requirement already satisfied: h5py in /usr/local/lib/python3.12/dist-packages (from qiskit_nature) (3.14.0)\n",
            "Collecting rustworkx>=0.12 (from qiskit_nature)\n",
            "  Downloading rustworkx-0.17.1-cp39-abi3-manylinux_2_17_x86_64.manylinux2014_x86_64.whl.metadata (10 kB)\n",
            "Requirement already satisfied: dill>=0.3 in /usr/local/lib/python3.12/dist-packages (from qiskit>=0.44->qiskit_nature) (0.3.8)\n",
            "Collecting stevedore>=3.0.0 (from qiskit>=0.44->qiskit_nature)\n",
            "  Downloading stevedore-5.5.0-py3-none-any.whl.metadata (2.2 kB)\n",
            "Downloading qiskit_nature-0.7.2-py3-none-any.whl (2.2 MB)\n",
            "\u001b[2K   \u001b[90m━━━━━━━━━━━━━━━━━━━━━━━━━━━━━━━━━━━━━━━━\u001b[0m \u001b[32m2.2/2.2 MB\u001b[0m \u001b[31m33.6 MB/s\u001b[0m eta \u001b[36m0:00:00\u001b[0m\n",
            "\u001b[?25hDownloading qiskit-2.2.1-cp39-abi3-manylinux2014_x86_64.manylinux_2_17_x86_64.whl (8.0 MB)\n",
            "\u001b[2K   \u001b[90m━━━━━━━━━━━━━━━━━━━━━━━━━━━━━━━━━━━━━━━━\u001b[0m \u001b[32m8.0/8.0 MB\u001b[0m \u001b[31m91.1 MB/s\u001b[0m eta \u001b[36m0:00:00\u001b[0m\n",
            "\u001b[?25hDownloading qiskit_algorithms-0.4.0-py3-none-any.whl (327 kB)\n",
            "\u001b[2K   \u001b[90m━━━━━━━━━━━━━━━━━━━━━━━━━━━━━━━━━━━━━━━━\u001b[0m \u001b[32m327.8/327.8 kB\u001b[0m \u001b[31m26.8 MB/s\u001b[0m eta \u001b[36m0:00:00\u001b[0m\n",
            "\u001b[?25hDownloading rustworkx-0.17.1-cp39-abi3-manylinux_2_17_x86_64.manylinux2014_x86_64.whl (2.2 MB)\n",
            "\u001b[2K   \u001b[90m━━━━━━━━━━━━━━━━━━━━━━━━━━━━━━━━━━━━━━━━\u001b[0m \u001b[32m2.2/2.2 MB\u001b[0m \u001b[31m70.9 MB/s\u001b[0m eta \u001b[36m0:00:00\u001b[0m\n",
            "\u001b[?25hDownloading stevedore-5.5.0-py3-none-any.whl (49 kB)\n",
            "\u001b[2K   \u001b[90m━━━━━━━━━━━━━━━━━━━━━━━━━━━━━━━━━━━━━━━━\u001b[0m \u001b[32m49.5/49.5 kB\u001b[0m \u001b[31m4.4 MB/s\u001b[0m eta \u001b[36m0:00:00\u001b[0m\n",
            "\u001b[?25hInstalling collected packages: stevedore, rustworkx, qiskit, qiskit-algorithms, qiskit_nature\n",
            "Successfully installed qiskit-2.2.1 qiskit-algorithms-0.4.0 qiskit_nature-0.7.2 rustworkx-0.17.1 stevedore-5.5.0\n",
            "Collecting pyscf\n",
            "  Downloading pyscf-2.10.0-py3-none-manylinux_2_17_x86_64.manylinux2014_x86_64.whl.metadata (6.4 kB)\n",
            "Requirement already satisfied: numpy!=1.16,!=1.17,>=1.13 in /usr/local/lib/python3.12/dist-packages (from pyscf) (2.0.2)\n",
            "Requirement already satisfied: scipy>=1.6.0 in /usr/local/lib/python3.12/dist-packages (from pyscf) (1.16.2)\n",
            "Requirement already satisfied: h5py>=2.7 in /usr/local/lib/python3.12/dist-packages (from pyscf) (3.14.0)\n",
            "Requirement already satisfied: setuptools in /usr/local/lib/python3.12/dist-packages (from pyscf) (75.2.0)\n",
            "Downloading pyscf-2.10.0-py3-none-manylinux_2_17_x86_64.manylinux2014_x86_64.whl (51.2 MB)\n",
            "\u001b[2K   \u001b[90m━━━━━━━━━━━━━━━━━━━━━━━━━━━━━━━━━━━━━━━━\u001b[0m \u001b[32m51.2/51.2 MB\u001b[0m \u001b[31m15.9 MB/s\u001b[0m eta \u001b[36m0:00:00\u001b[0m\n",
            "\u001b[?25hInstalling collected packages: pyscf\n",
            "Successfully installed pyscf-2.10.0\n",
            "Collecting rdkit\n",
            "  Downloading rdkit-2025.9.1-cp312-cp312-manylinux_2_28_x86_64.whl.metadata (4.1 kB)\n",
            "Requirement already satisfied: numpy in /usr/local/lib/python3.12/dist-packages (from rdkit) (2.0.2)\n",
            "Requirement already satisfied: Pillow in /usr/local/lib/python3.12/dist-packages (from rdkit) (11.3.0)\n",
            "Downloading rdkit-2025.9.1-cp312-cp312-manylinux_2_28_x86_64.whl (36.2 MB)\n",
            "\u001b[2K   \u001b[90m━━━━━━━━━━━━━━━━━━━━━━━━━━━━━━━━━━━━━━━━\u001b[0m \u001b[32m36.2/36.2 MB\u001b[0m \u001b[31m29.1 MB/s\u001b[0m eta \u001b[36m0:00:00\u001b[0m\n",
            "\u001b[?25hInstalling collected packages: rdkit\n",
            "Successfully installed rdkit-2025.9.1\n",
            "Collecting qiskit_aer\n",
            "  Downloading qiskit_aer-0.17.2-cp312-cp312-manylinux_2_17_x86_64.manylinux2014_x86_64.whl.metadata (8.3 kB)\n",
            "Requirement already satisfied: qiskit>=1.1.0 in /usr/local/lib/python3.12/dist-packages (from qiskit_aer) (2.2.1)\n",
            "Requirement already satisfied: numpy>=1.16.3 in /usr/local/lib/python3.12/dist-packages (from qiskit_aer) (2.0.2)\n",
            "Requirement already satisfied: scipy>=1.0 in /usr/local/lib/python3.12/dist-packages (from qiskit_aer) (1.16.2)\n",
            "Requirement already satisfied: psutil>=5 in /usr/local/lib/python3.12/dist-packages (from qiskit_aer) (5.9.5)\n",
            "Requirement already satisfied: python-dateutil>=2.8.0 in /usr/local/lib/python3.12/dist-packages (from qiskit_aer) (2.9.0.post0)\n",
            "Requirement already satisfied: six>=1.5 in /usr/local/lib/python3.12/dist-packages (from python-dateutil>=2.8.0->qiskit_aer) (1.17.0)\n",
            "Requirement already satisfied: rustworkx>=0.15.0 in /usr/local/lib/python3.12/dist-packages (from qiskit>=1.1.0->qiskit_aer) (0.17.1)\n",
            "Requirement already satisfied: dill>=0.3 in /usr/local/lib/python3.12/dist-packages (from qiskit>=1.1.0->qiskit_aer) (0.3.8)\n",
            "Requirement already satisfied: stevedore>=3.0.0 in /usr/local/lib/python3.12/dist-packages (from qiskit>=1.1.0->qiskit_aer) (5.5.0)\n",
            "Requirement already satisfied: typing-extensions in /usr/local/lib/python3.12/dist-packages (from qiskit>=1.1.0->qiskit_aer) (4.15.0)\n",
            "Downloading qiskit_aer-0.17.2-cp312-cp312-manylinux_2_17_x86_64.manylinux2014_x86_64.whl (12.4 MB)\n",
            "\u001b[2K   \u001b[90m━━━━━━━━━━━━━━━━━━━━━━━━━━━━━━━━━━━━━━━━\u001b[0m \u001b[32m12.4/12.4 MB\u001b[0m \u001b[31m113.3 MB/s\u001b[0m eta \u001b[36m0:00:00\u001b[0m\n",
            "\u001b[?25hInstalling collected packages: qiskit_aer\n",
            "Successfully installed qiskit_aer-0.17.2\n",
            "Collecting openfermion\n",
            "  Downloading openfermion-1.7.1-py3-none-any.whl.metadata (13 kB)\n",
            "Collecting openfermionpyscf\n",
            "  Downloading openfermionpyscf-0.5-py3-none-any.whl.metadata (6.9 kB)\n",
            "Collecting cirq-core>=1.4.1 (from openfermion)\n",
            "  Downloading cirq_core-1.6.1-py3-none-any.whl.metadata (4.8 kB)\n",
            "Collecting deprecation (from openfermion)\n",
            "  Downloading deprecation-2.1.0-py2.py3-none-any.whl.metadata (4.6 kB)\n",
            "Requirement already satisfied: h5py>=3.10.0 in /usr/local/lib/python3.12/dist-packages (from openfermion) (3.14.0)\n",
            "Requirement already satisfied: networkx in /usr/local/lib/python3.12/dist-packages (from openfermion) (3.5)\n",
            "Requirement already satisfied: numpy>=1.26 in /usr/local/lib/python3.12/dist-packages (from openfermion) (2.0.2)\n",
            "Collecting pubchempy (from openfermion)\n",
            "  Downloading pubchempy-1.0.5-py3-none-any.whl.metadata (4.3 kB)\n",
            "Requirement already satisfied: requests~=2.32.2 in /usr/local/lib/python3.12/dist-packages (from openfermion) (2.32.4)\n",
            "Requirement already satisfied: scipy~=1.15 in /usr/local/lib/python3.12/dist-packages (from openfermion) (1.16.2)\n",
            "Requirement already satisfied: sympy in /usr/local/lib/python3.12/dist-packages (from openfermion) (1.13.3)\n",
            "Requirement already satisfied: pyscf in /usr/local/lib/python3.12/dist-packages (from openfermionpyscf) (2.10.0)\n",
            "Requirement already satisfied: pytest in /usr/local/lib/python3.12/dist-packages (from openfermionpyscf) (8.4.2)\n",
            "Requirement already satisfied: attrs>=21.3.0 in /usr/local/lib/python3.12/dist-packages (from cirq-core>=1.4.1->openfermion) (25.4.0)\n",
            "Collecting duet>=0.2.8 (from cirq-core>=1.4.1->openfermion)\n",
            "  Downloading duet-0.2.9-py3-none-any.whl.metadata (2.3 kB)\n",
            "Requirement already satisfied: matplotlib~=3.8 in /usr/local/lib/python3.12/dist-packages (from cirq-core>=1.4.1->openfermion) (3.10.0)\n",
            "Requirement already satisfied: pandas~=2.1 in /usr/local/lib/python3.12/dist-packages (from cirq-core>=1.4.1->openfermion) (2.2.2)\n",
            "Requirement already satisfied: sortedcontainers~=2.0 in /usr/local/lib/python3.12/dist-packages (from cirq-core>=1.4.1->openfermion) (2.4.0)\n",
            "Requirement already satisfied: typing_extensions>=4.2 in /usr/local/lib/python3.12/dist-packages (from cirq-core>=1.4.1->openfermion) (4.15.0)\n",
            "Requirement already satisfied: tqdm>=4.12 in /usr/local/lib/python3.12/dist-packages (from cirq-core>=1.4.1->openfermion) (4.67.1)\n",
            "Requirement already satisfied: charset_normalizer<4,>=2 in /usr/local/lib/python3.12/dist-packages (from requests~=2.32.2->openfermion) (3.4.3)\n",
            "Requirement already satisfied: idna<4,>=2.5 in /usr/local/lib/python3.12/dist-packages (from requests~=2.32.2->openfermion) (3.10)\n",
            "Requirement already satisfied: urllib3<3,>=1.21.1 in /usr/local/lib/python3.12/dist-packages (from requests~=2.32.2->openfermion) (2.5.0)\n",
            "Requirement already satisfied: certifi>=2017.4.17 in /usr/local/lib/python3.12/dist-packages (from requests~=2.32.2->openfermion) (2025.10.5)\n",
            "Requirement already satisfied: packaging in /usr/local/lib/python3.12/dist-packages (from deprecation->openfermion) (25.0)\n",
            "Requirement already satisfied: setuptools in /usr/local/lib/python3.12/dist-packages (from pyscf->openfermionpyscf) (75.2.0)\n",
            "Requirement already satisfied: iniconfig>=1 in /usr/local/lib/python3.12/dist-packages (from pytest->openfermionpyscf) (2.1.0)\n",
            "Requirement already satisfied: pluggy<2,>=1.5 in /usr/local/lib/python3.12/dist-packages (from pytest->openfermionpyscf) (1.6.0)\n",
            "Requirement already satisfied: pygments>=2.7.2 in /usr/local/lib/python3.12/dist-packages (from pytest->openfermionpyscf) (2.19.2)\n",
            "Requirement already satisfied: mpmath<1.4,>=1.1.0 in /usr/local/lib/python3.12/dist-packages (from sympy->openfermion) (1.3.0)\n",
            "Requirement already satisfied: contourpy>=1.0.1 in /usr/local/lib/python3.12/dist-packages (from matplotlib~=3.8->cirq-core>=1.4.1->openfermion) (1.3.3)\n",
            "Requirement already satisfied: cycler>=0.10 in /usr/local/lib/python3.12/dist-packages (from matplotlib~=3.8->cirq-core>=1.4.1->openfermion) (0.12.1)\n",
            "Requirement already satisfied: fonttools>=4.22.0 in /usr/local/lib/python3.12/dist-packages (from matplotlib~=3.8->cirq-core>=1.4.1->openfermion) (4.60.1)\n",
            "Requirement already satisfied: kiwisolver>=1.3.1 in /usr/local/lib/python3.12/dist-packages (from matplotlib~=3.8->cirq-core>=1.4.1->openfermion) (1.4.9)\n",
            "Requirement already satisfied: pillow>=8 in /usr/local/lib/python3.12/dist-packages (from matplotlib~=3.8->cirq-core>=1.4.1->openfermion) (11.3.0)\n",
            "Requirement already satisfied: pyparsing>=2.3.1 in /usr/local/lib/python3.12/dist-packages (from matplotlib~=3.8->cirq-core>=1.4.1->openfermion) (3.2.5)\n",
            "Requirement already satisfied: python-dateutil>=2.7 in /usr/local/lib/python3.12/dist-packages (from matplotlib~=3.8->cirq-core>=1.4.1->openfermion) (2.9.0.post0)\n",
            "Requirement already satisfied: pytz>=2020.1 in /usr/local/lib/python3.12/dist-packages (from pandas~=2.1->cirq-core>=1.4.1->openfermion) (2025.2)\n",
            "Requirement already satisfied: tzdata>=2022.7 in /usr/local/lib/python3.12/dist-packages (from pandas~=2.1->cirq-core>=1.4.1->openfermion) (2025.2)\n",
            "Requirement already satisfied: six>=1.5 in /usr/local/lib/python3.12/dist-packages (from python-dateutil>=2.7->matplotlib~=3.8->cirq-core>=1.4.1->openfermion) (1.17.0)\n",
            "Downloading openfermion-1.7.1-py3-none-any.whl (44.7 MB)\n",
            "\u001b[2K   \u001b[90m━━━━━━━━━━━━━━━━━━━━━━━━━━━━━━━━━━━━━━━━\u001b[0m \u001b[32m44.7/44.7 MB\u001b[0m \u001b[31m15.4 MB/s\u001b[0m eta \u001b[36m0:00:00\u001b[0m\n",
            "\u001b[?25hDownloading openfermionpyscf-0.5-py3-none-any.whl (16 kB)\n",
            "Downloading cirq_core-1.6.1-py3-none-any.whl (2.0 MB)\n",
            "\u001b[2K   \u001b[90m━━━━━━━━━━━━━━━━━━━━━━━━━━━━━━━━━━━━━━━━\u001b[0m \u001b[32m2.0/2.0 MB\u001b[0m \u001b[31m73.0 MB/s\u001b[0m eta \u001b[36m0:00:00\u001b[0m\n",
            "\u001b[?25hDownloading deprecation-2.1.0-py2.py3-none-any.whl (11 kB)\n",
            "Downloading pubchempy-1.0.5-py3-none-any.whl (21 kB)\n",
            "Downloading duet-0.2.9-py3-none-any.whl (29 kB)\n",
            "Installing collected packages: pubchempy, duet, deprecation, cirq-core, openfermion, openfermionpyscf\n",
            "Successfully installed cirq-core-1.6.1 deprecation-2.1.0 duet-0.2.9 openfermion-1.7.1 openfermionpyscf-0.5 pubchempy-1.0.5\n",
            "Requirement already satisfied: scikit-learn in /usr/local/lib/python3.12/dist-packages (1.6.1)\n",
            "Requirement already satisfied: numpy>=1.19.5 in /usr/local/lib/python3.12/dist-packages (from scikit-learn) (2.0.2)\n",
            "Requirement already satisfied: scipy>=1.6.0 in /usr/local/lib/python3.12/dist-packages (from scikit-learn) (1.16.2)\n",
            "Requirement already satisfied: joblib>=1.2.0 in /usr/local/lib/python3.12/dist-packages (from scikit-learn) (1.5.2)\n",
            "Requirement already satisfied: threadpoolctl>=3.1.0 in /usr/local/lib/python3.12/dist-packages (from scikit-learn) (3.6.0)\n",
            "Requirement already satisfied: xgboost in /usr/local/lib/python3.12/dist-packages (3.0.5)\n",
            "Requirement already satisfied: numpy in /usr/local/lib/python3.12/dist-packages (from xgboost) (2.0.2)\n",
            "Requirement already satisfied: nvidia-nccl-cu12 in /usr/local/lib/python3.12/dist-packages (from xgboost) (2.27.3)\n",
            "Requirement already satisfied: scipy in /usr/local/lib/python3.12/dist-packages (from xgboost) (1.16.2)\n"
          ]
        }
      ]
    },
    {
      "cell_type": "markdown",
      "source": [
        "### **Data Preparation**"
      ],
      "metadata": {
        "id": "uKc22Dy8hTvc"
      }
    },
    {
      "cell_type": "code",
      "source": [
        "from google.colab import drive\n",
        "drive.mount('/content/drive')"
      ],
      "metadata": {
        "colab": {
          "base_uri": "https://localhost:8080/"
        },
        "id": "ZM3mCbcBrMna",
        "outputId": "2a536e3e-05e7-4812-ba45-86676edafa2e"
      },
      "execution_count": 1,
      "outputs": [
        {
          "output_type": "stream",
          "name": "stdout",
          "text": [
            "Mounted at /content/drive\n"
          ]
        }
      ]
    },
    {
      "cell_type": "code",
      "source": [
        "url = 'https://raw.githubusercontent.com/TastelessCandyzzz/Quantum_Chem_Hackathon/main/bace.csv'"
      ],
      "metadata": {
        "id": "a8mRio0YhYEK"
      },
      "execution_count": 59,
      "outputs": []
    },
    {
      "cell_type": "code",
      "source": [
        "import pandas as pd\n",
        "df = pd.read_csv(url,usecols=[\"mol\",\"Class\",\"MW\"])\n",
        "print(df.head())"
      ],
      "metadata": {
        "colab": {
          "base_uri": "https://localhost:8080/"
        },
        "id": "a-P54YdM-Vuq",
        "outputId": "c10a40f3-b6ea-4cc7-e216-f49afeaf43c6"
      },
      "execution_count": 60,
      "outputs": [
        {
          "output_type": "stream",
          "name": "stdout",
          "text": [
            "                                                 mol  Class         MW\n",
            "0  O1CC[C@@H](NC(=O)[C@@H](Cc2cc3cc(ccc3nc2N)-c2c...      1  431.56979\n",
            "1  Fc1cc(cc(F)c1)C[C@H](NC(=O)[C@@H](N1CC[C@](NC(...      1  657.81073\n",
            "2  S1(=O)(=O)N(c2cc(cc3c2n(cc3CC)CC1)C(=O)N[C@H](...      1  591.74091\n",
            "3  S1(=O)(=O)C[C@@H](Cc2cc(O[C@H](COCC)C(F)(F)F)c...      1  591.67828\n",
            "4  S1(=O)(=O)N(c2cc(cc3c2n(cc3CC)CC1)C(=O)N[C@H](...      1  629.71283\n"
          ]
        }
      ]
    },
    {
      "cell_type": "code",
      "source": [
        "df=df.loc[df[\"MW\"]<320]\n",
        "del df[\"MW\"]\n",
        "df.reset_index(drop=True, inplace=True)\n",
        "df.shape"
      ],
      "metadata": {
        "id": "qAQoKoKQynjZ",
        "colab": {
          "base_uri": "https://localhost:8080/"
        },
        "outputId": "77aa087e-6b61-4e4a-a128-f15d8f6ad420"
      },
      "execution_count": 61,
      "outputs": [
        {
          "output_type": "execute_result",
          "data": {
            "text/plain": [
              "(81, 2)"
            ]
          },
          "metadata": {},
          "execution_count": 61
        }
      ]
    },
    {
      "cell_type": "code",
      "source": [
        "from rdkit import Chem\n",
        "from rdkit.Chem import AllChem\n",
        "import pandas as pd\n",
        "import numpy as np\n",
        "\n",
        "def smiles_to_fingerprint(smiles, radius=2, n_bits=1024):\n",
        "    mol = Chem.MolFromSmiles(smiles)\n",
        "    if mol:\n",
        "        fp = AllChem.GetMorganFingerprintAsBitVect(mol, radius, nBits=n_bits)\n",
        "        return np.array(fp)\n",
        "    else:\n",
        "        return np.zeros((n_bits,))\n",
        "\n",
        "# Apply to all molecules\n",
        "df['features'] = df['mol'].apply(smiles_to_fingerprint)"
      ],
      "metadata": {
        "colab": {
          "base_uri": "https://localhost:8080/"
        },
        "id": "zs_lBqDK_POI",
        "outputId": "84210789-6398-47c5-d5ae-87a7203ac81b",
        "collapsed": true
      },
      "execution_count": 62,
      "outputs": [
        {
          "output_type": "stream",
          "name": "stderr",
          "text": [
            "[17:49:09] DEPRECATION WARNING: please use MorganGenerator\n",
            "[17:49:09] DEPRECATION WARNING: please use MorganGenerator\n",
            "[17:49:09] DEPRECATION WARNING: please use MorganGenerator\n",
            "[17:49:09] DEPRECATION WARNING: please use MorganGenerator\n",
            "[17:49:09] DEPRECATION WARNING: please use MorganGenerator\n",
            "[17:49:09] DEPRECATION WARNING: please use MorganGenerator\n",
            "[17:49:09] DEPRECATION WARNING: please use MorganGenerator\n",
            "[17:49:09] DEPRECATION WARNING: please use MorganGenerator\n",
            "[17:49:09] DEPRECATION WARNING: please use MorganGenerator\n",
            "[17:49:09] DEPRECATION WARNING: please use MorganGenerator\n",
            "[17:49:09] DEPRECATION WARNING: please use MorganGenerator\n",
            "[17:49:09] DEPRECATION WARNING: please use MorganGenerator\n",
            "[17:49:09] DEPRECATION WARNING: please use MorganGenerator\n",
            "[17:49:09] DEPRECATION WARNING: please use MorganGenerator\n",
            "[17:49:09] DEPRECATION WARNING: please use MorganGenerator\n",
            "[17:49:09] DEPRECATION WARNING: please use MorganGenerator\n",
            "[17:49:09] DEPRECATION WARNING: please use MorganGenerator\n",
            "[17:49:09] DEPRECATION WARNING: please use MorganGenerator\n",
            "[17:49:09] DEPRECATION WARNING: please use MorganGenerator\n",
            "[17:49:09] DEPRECATION WARNING: please use MorganGenerator\n",
            "[17:49:09] DEPRECATION WARNING: please use MorganGenerator\n",
            "[17:49:09] DEPRECATION WARNING: please use MorganGenerator\n",
            "[17:49:09] DEPRECATION WARNING: please use MorganGenerator\n",
            "[17:49:09] DEPRECATION WARNING: please use MorganGenerator\n",
            "[17:49:09] DEPRECATION WARNING: please use MorganGenerator\n",
            "[17:49:09] DEPRECATION WARNING: please use MorganGenerator\n",
            "[17:49:09] DEPRECATION WARNING: please use MorganGenerator\n",
            "[17:49:09] DEPRECATION WARNING: please use MorganGenerator\n",
            "[17:49:09] DEPRECATION WARNING: please use MorganGenerator\n",
            "[17:49:09] DEPRECATION WARNING: please use MorganGenerator\n",
            "[17:49:09] DEPRECATION WARNING: please use MorganGenerator\n",
            "[17:49:09] DEPRECATION WARNING: please use MorganGenerator\n",
            "[17:49:09] DEPRECATION WARNING: please use MorganGenerator\n",
            "[17:49:09] DEPRECATION WARNING: please use MorganGenerator\n",
            "[17:49:09] DEPRECATION WARNING: please use MorganGenerator\n",
            "[17:49:09] DEPRECATION WARNING: please use MorganGenerator\n",
            "[17:49:09] DEPRECATION WARNING: please use MorganGenerator\n",
            "[17:49:09] DEPRECATION WARNING: please use MorganGenerator\n",
            "[17:49:09] DEPRECATION WARNING: please use MorganGenerator\n",
            "[17:49:09] DEPRECATION WARNING: please use MorganGenerator\n",
            "[17:49:09] DEPRECATION WARNING: please use MorganGenerator\n",
            "[17:49:09] DEPRECATION WARNING: please use MorganGenerator\n",
            "[17:49:09] DEPRECATION WARNING: please use MorganGenerator\n",
            "[17:49:09] DEPRECATION WARNING: please use MorganGenerator\n",
            "[17:49:09] DEPRECATION WARNING: please use MorganGenerator\n",
            "[17:49:09] DEPRECATION WARNING: please use MorganGenerator\n",
            "[17:49:09] DEPRECATION WARNING: please use MorganGenerator\n",
            "[17:49:09] DEPRECATION WARNING: please use MorganGenerator\n",
            "[17:49:09] DEPRECATION WARNING: please use MorganGenerator\n",
            "[17:49:09] DEPRECATION WARNING: please use MorganGenerator\n",
            "[17:49:09] DEPRECATION WARNING: please use MorganGenerator\n",
            "[17:49:09] DEPRECATION WARNING: please use MorganGenerator\n",
            "[17:49:09] DEPRECATION WARNING: please use MorganGenerator\n",
            "[17:49:09] DEPRECATION WARNING: please use MorganGenerator\n",
            "[17:49:09] DEPRECATION WARNING: please use MorganGenerator\n",
            "[17:49:09] DEPRECATION WARNING: please use MorganGenerator\n",
            "[17:49:09] DEPRECATION WARNING: please use MorganGenerator\n",
            "[17:49:09] DEPRECATION WARNING: please use MorganGenerator\n",
            "[17:49:09] DEPRECATION WARNING: please use MorganGenerator\n",
            "[17:49:09] DEPRECATION WARNING: please use MorganGenerator\n",
            "[17:49:09] DEPRECATION WARNING: please use MorganGenerator\n",
            "[17:49:09] DEPRECATION WARNING: please use MorganGenerator\n",
            "[17:49:09] DEPRECATION WARNING: please use MorganGenerator\n",
            "[17:49:09] DEPRECATION WARNING: please use MorganGenerator\n",
            "[17:49:09] DEPRECATION WARNING: please use MorganGenerator\n",
            "[17:49:09] DEPRECATION WARNING: please use MorganGenerator\n",
            "[17:49:09] DEPRECATION WARNING: please use MorganGenerator\n",
            "[17:49:09] DEPRECATION WARNING: please use MorganGenerator\n",
            "[17:49:09] DEPRECATION WARNING: please use MorganGenerator\n",
            "[17:49:09] DEPRECATION WARNING: please use MorganGenerator\n",
            "[17:49:09] DEPRECATION WARNING: please use MorganGenerator\n",
            "[17:49:09] DEPRECATION WARNING: please use MorganGenerator\n",
            "[17:49:09] DEPRECATION WARNING: please use MorganGenerator\n",
            "[17:49:09] DEPRECATION WARNING: please use MorganGenerator\n",
            "[17:49:09] DEPRECATION WARNING: please use MorganGenerator\n",
            "[17:49:09] DEPRECATION WARNING: please use MorganGenerator\n",
            "[17:49:09] DEPRECATION WARNING: please use MorganGenerator\n",
            "[17:49:09] DEPRECATION WARNING: please use MorganGenerator\n",
            "[17:49:09] DEPRECATION WARNING: please use MorganGenerator\n",
            "[17:49:09] DEPRECATION WARNING: please use MorganGenerator\n",
            "[17:49:09] DEPRECATION WARNING: please use MorganGenerator\n"
          ]
        }
      ]
    },
    {
      "cell_type": "code",
      "source": [
        "X = np.stack(df[\"features\"])  # Convert feature column into a NumPy matrix\n",
        "y = df['Class']"
      ],
      "metadata": {
        "id": "gOkAWfzpJGWm"
      },
      "execution_count": 63,
      "outputs": []
    },
    {
      "cell_type": "markdown",
      "source": [
        "## **Calculating Qubit Hamiltonian, VQE ground-state energy, Hartree–Fock energy, Correlation energy, HOMO LUMO Gap and Dipole Moment**"
      ],
      "metadata": {
        "id": "R-U77wkcinS3"
      }
    },
    {
      "cell_type": "code",
      "source": [
        "import numpy as np\n",
        "from rdkit import Chem\n",
        "from rdkit.Chem import AllChem, rdmolops, Descriptors\n",
        "\n",
        "# --- PySCF Imports ---\n",
        "from pyscf import gto, scf\n",
        "\n",
        "# --- Qiskit Core Imports ---\n",
        "from qiskit import transpile\n",
        "from qiskit_aer import AerSimulator\n",
        "from qiskit.circuit.library import efficient_su2\n",
        "from qiskit_algorithms.minimum_eigensolvers import VQE\n",
        "from qiskit_algorithms.optimizers import COBYLA\n",
        "from qiskit.primitives import BackendEstimatorV2\n",
        "\n",
        "# --- Qiskit Nature Imports ---\n",
        "from qiskit_nature.units import DistanceUnit\n",
        "from qiskit_nature.second_q.drivers import PySCFDriver\n",
        "from qiskit_nature.second_q.mappers import JordanWignerMapper\n",
        "from qiskit_nature.second_q.transformers import ActiveSpaceTransformer, FreezeCoreTransformer\n",
        "\n",
        "# ============================================================\n",
        "# Helper: Generate 3D geometry from an RDKit Mol object\n",
        "# ============================================================\n",
        "def mol_to_geometry(mol: Chem.Mol):\n",
        "    mol = Chem.AddHs(mol)\n",
        "    AllChem.EmbedMolecule(mol, AllChem.ETKDG())\n",
        "    AllChem.UFFOptimizeMolecule(mol)\n",
        "    atoms = mol.GetAtoms()\n",
        "    conf = mol.GetConformer()\n",
        "    return \"; \".join(\n",
        "        f\"{atom.GetSymbol()} \"\n",
        "        f\"{conf.GetAtomPosition(atom.GetIdx()).x:.4f} \"\n",
        "        f\"{conf.GetAtomPosition(atom.GetIdx()).y:.4f} \"\n",
        "        f\"{conf.GetAtomPosition(atom.GetIdx()).z:.4f}\"\n",
        "        for atom in atoms\n",
        "    )\n",
        "\n",
        "# ============================================================\n",
        "# Step 1: Convert geometry → qubit Hamiltonian\n",
        "# ============================================================\n",
        "def molecule_to_qubit_hamiltonian(\n",
        "    geometry,\n",
        "    basis=\"sto3g\",\n",
        "    charge=0,\n",
        "    spin_multiplicity=1,\n",
        "    active_electrons=2,\n",
        "    active_orbitals=2,\n",
        "):\n",
        "    driver = PySCFDriver(\n",
        "        atom=geometry, basis=basis, charge=charge,\n",
        "        spin=(spin_multiplicity - 1), unit=DistanceUnit.ANGSTROM\n",
        "    )\n",
        "    es_problem = driver.run()\n",
        "    freezer = FreezeCoreTransformer(freeze_core=True)\n",
        "    transformer = ActiveSpaceTransformer(\n",
        "        num_electrons=active_electrons, num_spatial_orbitals=active_orbitals\n",
        "    )\n",
        "    es_problem = freezer.transform(es_problem)\n",
        "    es_problem = transformer.transform(es_problem)\n",
        "    mapper = JordanWignerMapper()\n",
        "    second_q_hamiltonian = es_problem.second_q_ops()[0]\n",
        "    return {\"qubit_operator\": mapper.map(second_q_hamiltonian), \"es_problem\": es_problem}\n",
        "\n",
        "# ============================================================\n",
        "# Step 2: Main function to compute all descriptors\n",
        "# ============================================================\n",
        "def compute_quantum_descriptors(\n",
        "    smiles: str,\n",
        "    basis: str = \"sto3g\",\n",
        "    active_electrons: int or tuple = 2,\n",
        "    active_orbitals: int = 2,\n",
        "):\n",
        "    mol_rdkit = Chem.MolFromSmiles(smiles)\n",
        "    if mol_rdkit is None:\n",
        "        raise ValueError(\"Invalid SMILES string provided.\")\n",
        "\n",
        "    charge = rdmolops.GetFormalCharge(mol_rdkit)\n",
        "    num_radical_electrons = Descriptors.NumRadicalElectrons(mol_rdkit)\n",
        "    spin_multiplicity = num_radical_electrons + 1\n",
        "\n",
        "    print(f\"\\n[•] Processing molecule: {smiles}\")\n",
        "    print(f\"[i] Auto-detected Charge: {charge}, Auto-detected Spin: {spin_multiplicity}\")\n",
        "\n",
        "    geometry = mol_to_geometry(mol_rdkit)\n",
        "    out = molecule_to_qubit_hamiltonian(\n",
        "        geometry, basis, charge, spin_multiplicity, active_electrons, active_orbitals\n",
        "    )\n",
        "    qubit_op, es_problem = out[\"qubit_operator\"], out[\"es_problem\"]\n",
        "    hf_energy = es_problem.reference_energy\n",
        "    print(f\"[+] Hartree–Fock energy: {hf_energy:.6f} Hartree\")\n",
        "\n",
        "    backend_sim = AerSimulator()\n",
        "    estimator = BackendEstimatorV2(backend=backend_sim)\n",
        "    ansatz = efficient_su2(qubit_op.num_qubits, reps=2, entanglement=\"linear\")\n",
        "    ansatz = transpile(ansatz, backend=backend_sim)\n",
        "    optimizer = COBYLA(maxiter=200)\n",
        "    vqe_solver = VQE(estimator, ansatz, optimizer)\n",
        "    vqe_result = vqe_solver.compute_minimum_eigenvalue(qubit_op)\n",
        "    vqe_energy = vqe_result.eigenvalue.real\n",
        "    print(f\"[+] VQE ground-state energy: {vqe_energy:.6f} Hartree\")\n",
        "\n",
        "    # --- PySCF calculations for additional properties ---\n",
        "    mol_pyscf = gto.Mole(\n",
        "        atom=geometry, basis=basis, charge=charge, spin=spin_multiplicity - 1\n",
        "    ).build()\n",
        "    mf = scf.RHF(mol_pyscf).run() if spin_multiplicity == 1 else scf.UHF(mol_pyscf).run()\n",
        "\n",
        "    # Using the robust, low-level dipole calculation\n",
        "    dm = mf.make_rdm1()\n",
        "    dip_ints = mf.mol.intor('int1e_r', comp=3)\n",
        "    elec_dip = -np.einsum('xij,ji->x', dip_ints, dm)\n",
        "    nuc_dip = np.einsum('i,ix->x', mf.mol.atom_charges(), mf.mol.atom_coords())\n",
        "    dipole_vector = elec_dip + nuc_dip\n",
        "    dipole_moment = np.linalg.norm(dipole_vector)\n",
        "\n",
        "    # --- Property Extraction ---\n",
        "    if es_problem.orbital_energies_b is None:\n",
        "        num_occupied = es_problem.num_alpha\n",
        "        homo_energy = es_problem.orbital_energies[num_occupied - 1]\n",
        "        lumo_energy = es_problem.orbital_energies[num_occupied]\n",
        "    else:\n",
        "        alpha_homo = es_problem.orbital_energies[es_problem.num_alpha - 1]\n",
        "        beta_homo = es_problem.orbital_energies_b[es_problem.num_beta - 1]\n",
        "        homo_energy = max(alpha_homo, beta_homo)\n",
        "        lumo_energy = es_problem.orbital_energies[es_problem.num_alpha]\n",
        "\n",
        "    # --- Collect all descriptors ---\n",
        "    return {\n",
        "        \"smiles\": smiles,\n",
        "        \"charge\": charge,\n",
        "        \"spin_multiplicity\": spin_multiplicity,\n",
        "        \"hf_energy\": hf_energy,\n",
        "        \"vqe_energy\": vqe_energy,\n",
        "        \"correlation_energy\": hf_energy - vqe_energy,\n",
        "        \"n_qubits\": qubit_op.num_qubits,\n",
        "        \"homo_energy\": homo_energy,\n",
        "        \"lumo_energy\": lumo_energy,\n",
        "        \"homo_lumo_gap\": lumo_energy - homo_energy,\n",
        "        \"dipole_moment\": dipole_moment,\n",
        "    }\n",
        "\n",
        "# ============================================================\n",
        "# Example Run\n",
        "# ============================================================\n",
        "if __name__ == \"__main__\":\n",
        "    hydroxide_results = compute_quantum_descriptors(smiles=\"[OH-]\")\n",
        "    print(\"\\n--- Final Descriptors for [OH-] ---\")\n",
        "    for key, value in hydroxide_results.items():\n",
        "        print(f\"{key:<20}: {value:.6f}\" if isinstance(value, float) else f\"{key:<20}: {value}\")\n",
        "    print(\"-----------------------------------\")"
      ],
      "metadata": {
        "colab": {
          "base_uri": "https://localhost:8080/"
        },
        "id": "VatcXo5DeCdB",
        "outputId": "f1165ef7-7224-4b7b-8a16-b43be290f143"
      },
      "execution_count": 8,
      "outputs": [
        {
          "output_type": "stream",
          "name": "stdout",
          "text": [
            "\n",
            "[•] Processing molecule: [OH-]\n",
            "[i] Auto-detected Charge: -1, Auto-detected Spin: 1\n",
            "[+] Hartree–Fock energy: -74.060416 Hartree\n",
            "[+] VQE ground-state energy: -0.299934 Hartree\n",
            "converged SCF energy = -74.0604157013592\n",
            "\n",
            "--- Final Descriptors for [OH-] ---\n",
            "smiles              : [OH-]\n",
            "charge              : -1\n",
            "spin_multiplicity   : 1\n",
            "hf_energy           : -74.060416\n",
            "vqe_energy          : -0.299934\n",
            "correlation_energy  : -73.760481\n",
            "n_qubits            : 4\n",
            "homo_energy         : 0.247616\n",
            "lumo_energy         : 1.222037\n",
            "homo_lumo_gap       : 0.974422\n",
            "dipole_moment       : 0.804211\n",
            "-----------------------------------\n"
          ]
        }
      ]
    },
    {
      "cell_type": "code",
      "source": [
        "df.to_csv('/content/drive/MyDrive/BACE_.csv', index=False)"
      ],
      "metadata": {
        "id": "uhK1RFbn79xA"
      },
      "execution_count": 12,
      "outputs": []
    },
    {
      "cell_type": "code",
      "source": [
        "import pandas as pd\n",
        "import numpy as np\n",
        "from tqdm import tqdm\n",
        "import os\n",
        "import time # Used for the dummy function\n",
        "from google.colab import files\n",
        "\n",
        "output_csv_path = '/content/drive/MyDrive/BACE_with_quantum_features.csv'\n",
        "input_csv_path = '/content/drive/MyDrive/BACE_.csv'\n",
        "save_interval = 8\n",
        "\n",
        "# List of new columns we will be adding\n",
        "quantum_cols = [\n",
        "    \"hf_energy\", \"vqe_energy\", \"correlation_energy\", \"n_qubits\",\n",
        "    \"homo_energy\", \"lumo_energy\", \"homo_lumo_gap\", \"dipole_moment\"\n",
        "]\n",
        "\n",
        "# Check if an output file already exists to resume from it\n",
        "if os.path.exists(output_csv_path):\n",
        "    print(f\"Resuming from existing file: '{output_csv_path}'\")\n",
        "    # When reading, set index_col=0 to prevent creating a new 'Unnamed: 0' column\n",
        "    df = pd.read_csv(output_csv_path, index_col=0)\n",
        "else:\n",
        "    print(f\"Starting a new run. Loading data from '{input_csv_path}'\")\n",
        "    df = pd.read_csv(input_csv_path)\n",
        "    for col in quantum_cols:\n",
        "        df[col] = np.nan\n",
        "\n",
        "# We iterate through the DataFrame's index\n",
        "for i in tqdm(df.index, desc=\"Computing quantum descriptors\"):\n",
        "    # Check if the calculation for this row has already been done\n",
        "    # We only need to check one column; if it's not NaN, we assume the row is complete.\n",
        "    if pd.notna(df.loc[i, 'hf_energy']):\n",
        "        continue # Skip to the next molecule\n",
        "\n",
        "    # Get the SMILES string for the current molecule\n",
        "    smiles = df.loc[i, 'mol']\n",
        "\n",
        "    try:\n",
        "        descriptors = compute_quantum_descriptors(smiles, active_electrons=2, active_orbitals=2)\n",
        "\n",
        "        if descriptors:\n",
        "            # If successful, update all columns for the current index 'i'\n",
        "            for key, value in descriptors.items():\n",
        "                df.loc[i, key] = value\n",
        "        else:\n",
        "            df.loc[i, 'hf_energy'] = 'Failed'\n",
        "\n",
        "    except Exception as e:\n",
        "        print(f\"[!] Error processing molecule {i} ({smiles}): {e}\")\n",
        "        # Mark with an 'Error' message to avoid re-calculating this row next time\n",
        "        df.loc[i, 'hf_energy'] = 'Error'\n",
        "\n",
        "\n",
        "    if (i + 1) % save_interval == 0 or (i + 1) == len(df):\n",
        "        print(f\"\\n Processed up to molecule {i + 1}. Saving progress to '{output_csv_path}'...\")\n",
        "        df.to_csv('/content/drive/MyDrive/BACE_with_quantum_features.csv', index=False)\n",
        "\n",
        "print(\"\\n All molecules processed. Final data saved successfully!\")\n",
        "print(df.head())"
      ],
      "metadata": {
        "colab": {
          "base_uri": "https://localhost:8080/"
        },
        "id": "7_ZS82lG7j0O",
        "outputId": "705b1d6c-9085-4c56-f78c-4ca16e396bd2"
      },
      "execution_count": null,
      "outputs": [
        {
          "output_type": "stream",
          "name": "stdout",
          "text": [
            "Starting a new run. Loading data from '/content/drive/MyDrive/BACE_.csv'\n"
          ]
        },
        {
          "output_type": "stream",
          "name": "stderr",
          "text": [
            "\rComputing quantum descriptors:   0%|          | 0/81 [00:00<?, ?it/s]"
          ]
        },
        {
          "output_type": "stream",
          "name": "stdout",
          "text": [
            "\n",
            "[•] Processing molecule: O=C1N(C)C(N[C@@]1(CC1CCCCC1)CCC1CCCCC1)=N\n",
            "[i] Auto-detected Charge: 0, Auto-detected Spin: 1\n",
            "[+] Hartree–Fock energy: -965.086237 Hartree\n",
            "[+] VQE ground-state energy: -0.861831 Hartree\n",
            "converged SCF energy = -965.086236582539\n"
          ]
        },
        {
          "output_type": "stream",
          "name": "stderr",
          "text": [
            "\rComputing quantum descriptors:   1%|          | 1/81 [03:12<4:16:19, 192.24s/it]"
          ]
        },
        {
          "output_type": "stream",
          "name": "stdout",
          "text": [
            "\n",
            "[•] Processing molecule: O=C(NC(=[NH2+])N)Cn1c(ccc1-c1ccccc1)-c1ccccc1\n",
            "[i] Auto-detected Charge: 1, Auto-detected Spin: 1\n",
            "[+] Hartree–Fock energy: -1010.330855 Hartree\n",
            "[+] VQE ground-state energy: -0.752921 Hartree\n",
            "converged SCF energy = -1010.33085493198\n"
          ]
        },
        {
          "output_type": "stream",
          "name": "stderr",
          "text": [
            "\rComputing quantum descriptors:   2%|▏         | 2/81 [05:52<3:48:13, 173.33s/it]"
          ]
        },
        {
          "output_type": "stream",
          "name": "stdout",
          "text": [
            "\n",
            "[•] Processing molecule: Clc1cc(ccc1)-c1cc(ccc1)[C@@]1(OCCC(=[NH+]1)N)C\n",
            "[i] Auto-detected Charge: 1, Auto-detected Spin: 1\n",
            "[+] Hartree–Fock energy: -1282.140915 Hartree\n",
            "[+] VQE ground-state energy: -0.901309 Hartree\n",
            "converged SCF energy = -1282.14091529092\n"
          ]
        },
        {
          "output_type": "stream",
          "name": "stderr",
          "text": [
            "\rComputing quantum descriptors:   4%|▎         | 3/81 [08:01<3:19:15, 153.27s/it]"
          ]
        },
        {
          "output_type": "stream",
          "name": "stdout",
          "text": [
            "\n",
            "[•] Processing molecule: [nH]1c2cc(ccc2cc1)-c1cc(ccc1)CNc1cccnc1N\n",
            "[i] Auto-detected Charge: 0, Auto-detected Spin: 1\n",
            "[+] Hartree–Fock energy: -973.453334 Hartree\n",
            "[+] VQE ground-state energy: -0.614258 Hartree\n",
            "converged SCF energy = -973.453334146325\n"
          ]
        },
        {
          "output_type": "stream",
          "name": "stderr",
          "text": [
            "\rComputing quantum descriptors:   5%|▍         | 4/81 [10:39<3:18:50, 154.94s/it]"
          ]
        },
        {
          "output_type": "stream",
          "name": "stdout",
          "text": [
            "\n",
            "[•] Processing molecule: O=C1N(C)C(N[C@](C1)(C)[C@@H]1C[C@H]1c1ccccc1)=N\n",
            "[i] Auto-detected Charge: 0, Auto-detected Spin: 1\n",
            "[+] Hartree–Fock energy: -807.135855 Hartree\n",
            "[+] VQE ground-state energy: -0.734406 Hartree\n",
            "converged SCF energy = -807.135854772484\n"
          ]
        },
        {
          "output_type": "stream",
          "name": "stderr",
          "text": [
            "\rComputing quantum descriptors:   6%|▌         | 5/81 [12:25<2:53:51, 137.26s/it]"
          ]
        },
        {
          "output_type": "stream",
          "name": "stdout",
          "text": [
            "\n",
            "[•] Processing molecule: O(C)c1cc(ccc1)-c1cc(ccc1)CCc1nc(N)ccc1\n",
            "[i] Auto-detected Charge: 0, Auto-detected Spin: 1\n",
            "[+] Hartree–Fock energy: -941.029948 Hartree\n",
            "[+] VQE ground-state energy: -0.659942 Hartree\n",
            "converged SCF energy = -941.029948278698\n"
          ]
        },
        {
          "output_type": "stream",
          "name": "stderr",
          "text": [
            "\rComputing quantum descriptors:   7%|▋         | 6/81 [14:51<2:55:19, 140.27s/it]"
          ]
        },
        {
          "output_type": "stream",
          "name": "stdout",
          "text": [
            "\n",
            "[•] Processing molecule: [NH+]=1C(C=2N(CCCN=2)C=1N)(c1ccccc1)c1ccccc1\n",
            "[i] Auto-detected Charge: 1, Auto-detected Spin: 1\n",
            "[+] Hartree–Fock energy: -899.179812 Hartree\n",
            "[+] VQE ground-state energy: -1.005617 Hartree\n",
            "converged SCF energy = -899.17981238663\n"
          ]
        },
        {
          "output_type": "stream",
          "name": "stderr",
          "text": [
            "\rComputing quantum descriptors:   9%|▊         | 7/81 [17:20<2:56:42, 143.28s/it]"
          ]
        },
        {
          "output_type": "stream",
          "name": "stdout",
          "text": [
            "\n",
            "[•] Processing molecule: O(C)c1cc(cnc1)-c1cc(ccc1)CNc1cccnc1N\n",
            "[i] Auto-detected Charge: 0, Auto-detected Spin: 1\n",
            "[+] Hartree–Fock energy: -972.490604 Hartree\n",
            "[+] VQE ground-state energy: -0.690912 Hartree\n",
            "converged SCF energy = -972.490604139864\n"
          ]
        },
        {
          "output_type": "stream",
          "name": "stderr",
          "text": [
            "\rComputing quantum descriptors:  10%|▉         | 8/81 [19:43<2:54:15, 143.22s/it]"
          ]
        },
        {
          "output_type": "stream",
          "name": "stdout",
          "text": [
            "\n",
            " Processed up to molecule 8. Saving progress to '/content/drive/MyDrive/BACE_with_quantum_features.csv'...\n",
            "\n",
            "[•] Processing molecule: S1CC[C@@](N=C1N)(C)c1ccc(OC)cc1\n",
            "[i] Auto-detected Charge: 0, Auto-detected Spin: 1\n",
            "[+] Hartree–Fock energy: -1032.651231 Hartree\n",
            "[+] VQE ground-state energy: -0.740321 Hartree\n",
            "converged SCF energy = -1032.65123097288\n"
          ]
        },
        {
          "output_type": "stream",
          "name": "stderr",
          "text": [
            "\rComputing quantum descriptors:  11%|█         | 9/81 [21:07<2:29:30, 124.59s/it]"
          ]
        },
        {
          "output_type": "stream",
          "name": "stdout",
          "text": [
            "\n",
            "[•] Processing molecule: O=C1N(C)C(=N[C@@](C1)(CCc1ccccc1)C)N\n",
            "[i] Auto-detected Charge: 0, Auto-detected Spin: 1\n",
            "[+] Hartree–Fock energy: -769.778914 Hartree\n",
            "[+] VQE ground-state energy: -0.825293 Hartree\n",
            "converged SCF energy = -769.778914009146\n"
          ]
        },
        {
          "output_type": "stream",
          "name": "stderr",
          "text": [
            "\rComputing quantum descriptors:  12%|█▏        | 10/81 [22:51<2:19:52, 118.20s/it]"
          ]
        },
        {
          "output_type": "stream",
          "name": "stdout",
          "text": [
            "\n",
            "[•] Processing molecule: [nH]1c2cc(ccc2cc1)CCc1nc(N)ccc1\n",
            "[i] Auto-detected Charge: 0, Auto-detected Spin: 1\n",
            "[+] Hartree–Fock energy: -730.981417 Hartree\n",
            "[+] VQE ground-state energy: -0.660779 Hartree\n",
            "converged SCF energy = -730.981417308447\n"
          ]
        },
        {
          "output_type": "stream",
          "name": "stderr",
          "text": [
            "\rComputing quantum descriptors:  14%|█▎        | 11/81 [24:23<2:08:45, 110.36s/it]"
          ]
        },
        {
          "output_type": "stream",
          "name": "stdout",
          "text": [
            "\n",
            "[•] Processing molecule: O1[C@@H]2COCC[C@@]2(N=C1N)c1cc(ccc1)-c1cncnc1\n",
            "[i] Auto-detected Charge: 0, Auto-detected Spin: 1\n",
            "[+] Hartree–Fock energy: -970.431369 Hartree\n",
            "[+] VQE ground-state energy: -0.742288 Hartree\n",
            "converged SCF energy = -970.431369060725\n"
          ]
        },
        {
          "output_type": "stream",
          "name": "stderr",
          "text": [
            "\rComputing quantum descriptors:  15%|█▍        | 12/81 [26:40<2:15:59, 118.25s/it]"
          ]
        },
        {
          "output_type": "stream",
          "name": "stdout",
          "text": [
            "\n",
            "[•] Processing molecule: n1cccc(NCc2cc(ccc2)-c2cccnc2)c1N\n",
            "[i] Auto-detected Charge: 0, Auto-detected Spin: 1\n",
            "[+] Hartree–Fock energy: -860.078266 Hartree\n",
            "[+] VQE ground-state energy: -0.695180 Hartree\n",
            "converged SCF energy = -860.07826649921\n"
          ]
        },
        {
          "output_type": "stream",
          "name": "stderr",
          "text": [
            "\rComputing quantum descriptors:  16%|█▌        | 13/81 [28:39<2:14:29, 118.66s/it]"
          ]
        },
        {
          "output_type": "stream",
          "name": "stdout",
          "text": [
            "\n",
            "[•] Processing molecule: O1CCC(OC(=O)[C@@H]2[NH2+]C[C@]3(C2)c2c(NC3=O)cccc2)CC1\n",
            "[i] Auto-detected Charge: 1, Auto-detected Spin: 1\n",
            "[+] Hartree–Fock energy: -1050.866341 Hartree\n",
            "[+] VQE ground-state energy: -0.986757 Hartree\n",
            "converged SCF energy = -1050.8663406756\n"
          ]
        },
        {
          "output_type": "stream",
          "name": "stderr",
          "text": [
            "\rComputing quantum descriptors:  17%|█▋        | 14/81 [31:18<2:26:00, 130.76s/it]"
          ]
        },
        {
          "output_type": "stream",
          "name": "stdout",
          "text": [
            "\n",
            "[•] Processing molecule: O=C1NC(=NC(=C1)CCc1cc2[nH]ccc2cc1)N\n",
            "[i] Auto-detected Charge: 0, Auto-detected Spin: 1\n",
            "[+] Hartree–Fock energy: -820.539650 Hartree\n",
            "[+] VQE ground-state energy: -0.670611 Hartree\n",
            "converged SCF energy = -820.539649698647\n"
          ]
        },
        {
          "output_type": "stream",
          "name": "stderr",
          "text": [
            "\rComputing quantum descriptors:  19%|█▊        | 15/81 [32:54<2:12:12, 120.19s/it]"
          ]
        },
        {
          "output_type": "stream",
          "name": "stdout",
          "text": [
            "\n",
            "[•] Processing molecule: Clc1cc(ccc1OCCCC)CSC(=[NH2+])N\n",
            "[i] Auto-detected Charge: 1, Auto-detected Spin: 1\n",
            "[+] Hartree–Fock energy: -1488.275850 Hartree\n",
            "[+] VQE ground-state energy: -0.998829 Hartree\n",
            "converged SCF energy = -1488.2758498872\n"
          ]
        },
        {
          "output_type": "stream",
          "name": "stderr",
          "text": [
            "\rComputing quantum descriptors:  20%|█▉        | 16/81 [34:32<2:02:59, 113.54s/it]"
          ]
        },
        {
          "output_type": "stream",
          "name": "stdout",
          "text": [
            "\n",
            " Processed up to molecule 16. Saving progress to '/content/drive/MyDrive/BACE_with_quantum_features.csv'...\n",
            "\n",
            "[•] Processing molecule: n1cccc(NCc2ccccc2)c1N\n",
            "[i] Auto-detected Charge: 0, Auto-detected Spin: 1\n",
            "[+] Hartree–Fock energy: -617.579529 Hartree\n",
            "[+] VQE ground-state energy: -0.423995 Hartree\n",
            "converged SCF energy = -617.579529070738\n"
          ]
        },
        {
          "output_type": "stream",
          "name": "stderr",
          "text": [
            "\rComputing quantum descriptors:  21%|██        | 17/81 [35:42<1:47:10, 100.48s/it]"
          ]
        },
        {
          "output_type": "stream",
          "name": "stdout",
          "text": [
            "\n",
            "[•] Processing molecule: Clc1cc(ccc1)CN1C(=O)[C@](NC1=N)(CC(C)C)C\n",
            "[i] Auto-detected Charge: 0, Auto-detected Spin: 1\n",
            "[+] Hartree–Fock energy: -1262.360912 Hartree\n",
            "[+] VQE ground-state energy: -0.720959 Hartree\n",
            "converged SCF energy = -1262.36091176769\n"
          ]
        },
        {
          "output_type": "stream",
          "name": "stderr",
          "text": [
            "\rComputing quantum descriptors:  22%|██▏       | 18/81 [37:49<1:53:44, 108.33s/it]"
          ]
        },
        {
          "output_type": "stream",
          "name": "stdout",
          "text": [
            "\n",
            "[•] Processing molecule: Fc1ccc(cc1)CC1CC[NH2+]CC1\n",
            "[i] Auto-detected Charge: 1, Auto-detected Spin: 1\n",
            "[+] Hartree–Fock energy: -610.426318 Hartree\n",
            "[+] VQE ground-state energy: -0.822923 Hartree\n",
            "converged SCF energy = -610.426318365623\n"
          ]
        },
        {
          "output_type": "stream",
          "name": "stderr",
          "text": [
            "\rComputing quantum descriptors:  23%|██▎       | 19/81 [38:55<1:38:55, 95.74s/it] "
          ]
        },
        {
          "output_type": "stream",
          "name": "stdout",
          "text": [
            "\n",
            "[•] Processing molecule: O=C1N(C)C(=NC(=C1)[C@H]1C[C@H]1c1ccccc1)N\n",
            "[i] Auto-detected Charge: 0, Auto-detected Spin: 1\n",
            "[+] Hartree–Fock energy: -767.355830 Hartree\n",
            "[+] VQE ground-state energy: -0.681128 Hartree\n",
            "converged SCF energy = -767.355830266903\n"
          ]
        },
        {
          "output_type": "stream",
          "name": "stderr",
          "text": [
            "\rComputing quantum descriptors:  25%|██▍       | 20/81 [40:31<1:37:20, 95.75s/it]"
          ]
        },
        {
          "output_type": "stream",
          "name": "stdout",
          "text": [
            "\n",
            "[•] Processing molecule: Clc1cc(ccc1)CN1C(=O)C(NC1=N)(C)C\n",
            "[i] Auto-detected Charge: 0, Auto-detected Spin: 1\n",
            "[+] Hartree–Fock energy: -1146.628766 Hartree\n",
            "[+] VQE ground-state energy: -0.815308 Hartree\n",
            "converged SCF energy = -1146.62876646443\n"
          ]
        },
        {
          "output_type": "stream",
          "name": "stderr",
          "text": [
            "\rComputing quantum descriptors:  26%|██▌       | 21/81 [42:02<1:34:28, 94.48s/it]"
          ]
        },
        {
          "output_type": "stream",
          "name": "stdout",
          "text": [
            "\n",
            "[•] Processing molecule: Clc1cc2nc(n(c2cc1)CCCO)N\n",
            "[i] Auto-detected Charge: 0, Auto-detected Spin: 1\n",
            "[+] Hartree–Fock energy: -1070.658830 Hartree\n",
            "[+] VQE ground-state energy: -0.688604 Hartree\n",
            "converged SCF energy = -1070.65883047614\n"
          ]
        },
        {
          "output_type": "stream",
          "name": "stderr",
          "text": [
            "\rComputing quantum descriptors:  27%|██▋       | 22/81 [43:17<1:27:07, 88.61s/it]"
          ]
        },
        {
          "output_type": "stream",
          "name": "stdout",
          "text": [
            "\n",
            "[•] Processing molecule: n1c2c(nc(N)c1N1CCCC1)cccc2\n",
            "[i] Auto-detected Charge: 0, Auto-detected Spin: 1\n",
            "[+] Hartree–Fock energy: -671.957588 Hartree\n",
            "[+] VQE ground-state energy: -0.681515 Hartree\n",
            "converged SCF energy = -671.957587989834\n"
          ]
        },
        {
          "output_type": "stream",
          "name": "stderr",
          "text": [
            "\rComputing quantum descriptors:  28%|██▊       | 23/81 [44:33<1:22:04, 84.91s/it]"
          ]
        },
        {
          "output_type": "stream",
          "name": "stdout",
          "text": [
            "\n",
            "[•] Processing molecule: Clc1cc(ccc1)CCc1cccnc1N\n",
            "[i] Auto-detected Charge: 0, Auto-detected Spin: 1\n",
            "[+] Hartree–Fock energy: -1055.860401 Hartree\n",
            "[+] VQE ground-state energy: -0.769904 Hartree\n",
            "converged SCF energy = -1055.86040104492\n"
          ]
        },
        {
          "output_type": "stream",
          "name": "stderr",
          "text": [
            "\rComputing quantum descriptors:  30%|██▉       | 24/81 [45:53<1:19:05, 83.26s/it]"
          ]
        },
        {
          "output_type": "stream",
          "name": "stdout",
          "text": [
            "\n",
            " Processed up to molecule 24. Saving progress to '/content/drive/MyDrive/BACE_with_quantum_features.csv'...\n",
            "\n",
            "[•] Processing molecule: n1ccc2c(cccc2)c1N\n",
            "[i] Auto-detected Charge: 0, Auto-detected Spin: 1\n",
            "[+] Hartree–Fock energy: -448.735587 Hartree\n",
            "[+] VQE ground-state energy: -0.650692 Hartree\n",
            "converged SCF energy = -448.735587258011\n"
          ]
        },
        {
          "output_type": "stream",
          "name": "stderr",
          "text": [
            "\rComputing quantum descriptors:  31%|███       | 25/81 [46:51<1:10:44, 75.80s/it]"
          ]
        },
        {
          "output_type": "stream",
          "name": "stdout",
          "text": [
            "\n",
            "[•] Processing molecule: n1c2c(ccc1N)cccc2\n",
            "[i] Auto-detected Charge: 0, Auto-detected Spin: 1\n",
            "[+] Hartree–Fock energy: -448.738880 Hartree\n",
            "[+] VQE ground-state energy: -0.682959 Hartree\n",
            "converged SCF energy = -448.73887983714\n"
          ]
        },
        {
          "output_type": "stream",
          "name": "stderr",
          "text": [
            "\rComputing quantum descriptors:  32%|███▏      | 26/81 [47:49<1:04:30, 70.37s/it]"
          ]
        },
        {
          "output_type": "stream",
          "name": "stdout",
          "text": [
            "\n",
            "[•] Processing molecule: O1CC[NH+](CC1)CC(O)COc1cc(ccc1C)C\n",
            "[i] Auto-detected Charge: 1, Auto-detected Spin: 1\n",
            "[+] Hartree–Fock energy: -850.209466 Hartree\n",
            "[+] VQE ground-state energy: -0.917630 Hartree\n",
            "converged SCF energy = -850.209465864134\n"
          ]
        },
        {
          "output_type": "stream",
          "name": "stderr",
          "text": [
            "\rComputing quantum descriptors:  33%|███▎      | 27/81 [49:52<1:17:40, 86.31s/it]"
          ]
        },
        {
          "output_type": "stream",
          "name": "stdout",
          "text": [
            "\n",
            "[•] Processing molecule: O=C1NC(=NC(=C1)CCC)N\n",
            "[i] Auto-detected Charge: 0, Auto-detected Spin: 1\n",
            "[+] Hartree–Fock energy: -503.250795 Hartree\n",
            "[+] VQE ground-state energy: -0.552351 Hartree\n",
            "converged SCF energy = -503.250795403019\n"
          ]
        },
        {
          "output_type": "stream",
          "name": "stderr",
          "text": [
            "\rComputing quantum descriptors:  35%|███▍      | 28/81 [50:54<1:09:46, 78.98s/it]"
          ]
        },
        {
          "output_type": "stream",
          "name": "stdout",
          "text": [
            "\n",
            "[•] Processing molecule: O=C1N(C)C(=[NH2+])NC1(c1ccccc1)c1ccccc1\n",
            "[i] Auto-detected Charge: 1, Auto-detected Spin: 1\n",
            "[+] Hartree–Fock energy: -842.692646 Hartree\n",
            "[+] VQE ground-state energy: -0.952831 Hartree\n",
            "converged SCF energy = -842.692646245713\n"
          ]
        },
        {
          "output_type": "stream",
          "name": "stderr",
          "text": [
            "\rComputing quantum descriptors:  36%|███▌      | 29/81 [52:51<1:18:07, 90.15s/it]"
          ]
        },
        {
          "output_type": "stream",
          "name": "stdout",
          "text": [
            "\n",
            "[•] Processing molecule: n1c2c(cc(cc2)-c2ccccc2C#CC(C)(C)C)ccc1N\n",
            "[i] Auto-detected Charge: 0, Auto-detected Spin: 1\n",
            "[+] Hartree–Fock energy: -904.546185 Hartree\n",
            "[+] VQE ground-state energy: -0.625993 Hartree\n",
            "converged SCF energy = -904.546184819942\n"
          ]
        },
        {
          "output_type": "stream",
          "name": "stderr",
          "text": [
            "\rComputing quantum descriptors:  37%|███▋      | 30/81 [55:25<1:33:05, 109.52s/it]"
          ]
        },
        {
          "output_type": "stream",
          "name": "stdout",
          "text": [
            "\n",
            "[•] Processing molecule: O=C(NCC1CCCCC1)CCc1cc2c(nc1N)cccc2\n",
            "[i] Auto-detected Charge: 0, Auto-detected Spin: 1\n",
            "[+] Hartree–Fock energy: -960.339065 Hartree\n",
            "[+] VQE ground-state energy: -0.579492 Hartree\n",
            "converged SCF energy = -960.339065120484\n"
          ]
        },
        {
          "output_type": "stream",
          "name": "stderr",
          "text": [
            "\rComputing quantum descriptors:  38%|███▊      | 31/81 [58:15<1:46:12, 127.45s/it]"
          ]
        },
        {
          "output_type": "stream",
          "name": "stdout",
          "text": [
            "\n",
            "[•] Processing molecule: O=C(N(C)C1CCCCC1)CCc1cc2c(nc1N)cccc2\n",
            "[i] Auto-detected Charge: 0, Auto-detected Spin: 1\n",
            "[+] Hartree–Fock energy: -960.332844 Hartree\n",
            "[+] VQE ground-state energy: -0.491296 Hartree\n",
            "converged SCF energy = -960.332843940019\n"
          ]
        },
        {
          "output_type": "stream",
          "name": "stderr",
          "text": [
            "\rComputing quantum descriptors:  40%|███▉      | 32/81 [1:01:12<1:56:25, 142.56s/it]"
          ]
        },
        {
          "output_type": "stream",
          "name": "stdout",
          "text": [
            "\n",
            " Processed up to molecule 32. Saving progress to '/content/drive/MyDrive/BACE_with_quantum_features.csv'...\n",
            "\n",
            "[•] Processing molecule: s1cc(cc1)-c1cc2c(nc(N)cc2)cc1\n",
            "[i] Auto-detected Charge: 0, Auto-detected Spin: 1\n",
            "[+] Hartree–Fock energy: -992.682617 Hartree\n",
            "[+] VQE ground-state energy: -0.567255 Hartree\n",
            "converged SCF energy = -992.682617032222\n"
          ]
        },
        {
          "output_type": "stream",
          "name": "stderr",
          "text": [
            "\rComputing quantum descriptors:  41%|████      | 33/81 [1:02:28<1:38:00, 122.50s/it]"
          ]
        },
        {
          "output_type": "stream",
          "name": "stdout",
          "text": [
            "\n",
            "[•] Processing molecule: Oc1ccc(cc1C1CCCCC1)CC[NH3+]\n",
            "[i] Auto-detected Charge: 1, Auto-detected Spin: 1\n",
            "[+] Hartree–Fock energy: -663.941094 Hartree\n",
            "[+] VQE ground-state energy: -1.011905 Hartree\n",
            "converged SCF energy = -663.941093743385\n"
          ]
        },
        {
          "output_type": "stream",
          "name": "stderr",
          "text": [
            "\rComputing quantum descriptors:  42%|████▏     | 34/81 [1:04:01<1:29:07, 113.77s/it]"
          ]
        },
        {
          "output_type": "stream",
          "name": "stdout",
          "text": [
            "\n",
            "[•] Processing molecule: Oc1ccc(cc1CC)CC[NH3+]\n",
            "[i] Auto-detected Charge: 1, Auto-detected Spin: 1\n",
            "[+] Hartree–Fock energy: -510.782341 Hartree\n",
            "[+] VQE ground-state energy: -0.965789 Hartree\n",
            "converged SCF energy = -510.782340905577\n"
          ]
        },
        {
          "output_type": "stream",
          "name": "stderr",
          "text": [
            "\rComputing quantum descriptors:  43%|████▎     | 35/81 [1:05:09<1:16:40, 100.01s/it]"
          ]
        },
        {
          "output_type": "stream",
          "name": "stdout",
          "text": [
            "\n",
            "[•] Processing molecule: Oc1ccc(cc1)CC([NH3+])C\n",
            "[i] Auto-detected Charge: 1, Auto-detected Spin: 1\n",
            "[+] Hartree–Fock energy: -472.208420 Hartree\n",
            "[+] VQE ground-state energy: -0.999641 Hartree\n",
            "converged SCF energy = -472.208419995855\n"
          ]
        },
        {
          "output_type": "stream",
          "name": "stderr",
          "text": [
            "\rComputing quantum descriptors:  44%|████▍     | 36/81 [1:06:12<1:06:29, 88.66s/it] "
          ]
        },
        {
          "output_type": "stream",
          "name": "stdout",
          "text": [
            "\n",
            "[•] Processing molecule: Oc1ccc(cc1)CC[NH3+]\n",
            "[i] Auto-detected Charge: 1, Auto-detected Spin: 1\n",
            "[+] Hartree–Fock energy: -433.621560 Hartree\n",
            "[+] VQE ground-state energy: -1.000321 Hartree\n",
            "converged SCF energy = -433.62156022659\n"
          ]
        },
        {
          "output_type": "stream",
          "name": "stderr",
          "text": [
            "\rComputing quantum descriptors:  46%|████▌     | 37/81 [1:07:12<58:53, 80.31s/it]  "
          ]
        },
        {
          "output_type": "stream",
          "name": "stdout",
          "text": [
            "\n",
            "[•] Processing molecule: S1CCC(=NC1(C)c1cc(ccc1)-c1cc(OC)ccc1)N\n",
            "[i] Auto-detected Charge: 0, Auto-detected Spin: 1\n",
            "[+] Hartree–Fock energy: -1259.402007 Hartree\n",
            "[+] VQE ground-state energy: -0.685414 Hartree\n",
            "converged SCF energy = -1259.40200713342\n"
          ]
        },
        {
          "output_type": "stream",
          "name": "stderr",
          "text": [
            "\rComputing quantum descriptors:  47%|████▋     | 38/81 [1:09:39<1:11:51, 100.26s/it]"
          ]
        },
        {
          "output_type": "stream",
          "name": "stdout",
          "text": [
            "\n",
            "[•] Processing molecule: O=C1N(C)C(=NC1(C1CCCCC1)c1ccccc1)N\n",
            "[i] Auto-detected Charge: 0, Auto-detected Spin: 1\n",
            "[+] Hartree–Fock energy: -845.791470 Hartree\n",
            "[+] VQE ground-state energy: -0.792295 Hartree\n",
            "converged SCF energy = -845.79147041015\n"
          ]
        },
        {
          "output_type": "stream",
          "name": "stderr",
          "text": [
            "\rComputing quantum descriptors:  48%|████▊     | 39/81 [1:11:49<1:16:20, 109.06s/it]"
          ]
        },
        {
          "output_type": "stream",
          "name": "stdout",
          "text": [
            "\n",
            "[•] Processing molecule: S1CCC(=NC1(C)c1cc(ccc1)-c1cncnc1)N\n",
            "[i] Auto-detected Charge: 0, Auto-detected Spin: 1\n",
            "[+] Hartree–Fock energy: -1178.482068 Hartree\n",
            "[+] VQE ground-state energy: -0.763488 Hartree\n",
            "converged SCF energy = -1178.48206795889\n"
          ]
        },
        {
          "output_type": "stream",
          "name": "stderr",
          "text": [
            "\rComputing quantum descriptors:  49%|████▉     | 40/81 [1:13:50<1:16:57, 112.61s/it]"
          ]
        },
        {
          "output_type": "stream",
          "name": "stdout",
          "text": [
            "\n",
            " Processed up to molecule 40. Saving progress to '/content/drive/MyDrive/BACE_with_quantum_features.csv'...\n",
            "\n",
            "[•] Processing molecule: O=C1N(C)C(=NC1(C1CCCCC1)C1CCCCC1)N\n",
            "[i] Auto-detected Charge: 0, Auto-detected Spin: 1\n",
            "[+] Hartree–Fock energy: -849.369386 Hartree\n",
            "[+] VQE ground-state energy: -0.769033 Hartree\n",
            "converged SCF energy = -849.369386260021\n"
          ]
        },
        {
          "output_type": "stream",
          "name": "stderr",
          "text": [
            "\rComputing quantum descriptors:  51%|█████     | 41/81 [1:16:17<1:22:05, 123.14s/it]"
          ]
        },
        {
          "output_type": "stream",
          "name": "stdout",
          "text": [
            "\n",
            "[•] Processing molecule: O1CC2(N=C1N)CC(Cc1c2cc(cc1)-c1cncnc1)(C)C\n",
            "[i] Auto-detected Charge: 0, Auto-detected Spin: 1\n",
            "[+] Hartree–Fock energy: -973.756431 Hartree\n",
            "[+] VQE ground-state energy: -0.699321 Hartree\n",
            "converged SCF energy = -973.75643127918\n"
          ]
        },
        {
          "output_type": "stream",
          "name": "stderr",
          "text": [
            "\rComputing quantum descriptors:  52%|█████▏    | 42/81 [1:18:59<1:27:27, 134.56s/it]"
          ]
        },
        {
          "output_type": "stream",
          "name": "stdout",
          "text": [
            "\n",
            "[•] Processing molecule: S1CC(N=C(N)C1)(C)c1cc(ccc1)-c1cc(OC)ccc1\n",
            "[i] Auto-detected Charge: 0, Auto-detected Spin: 1\n",
            "[+] Hartree–Fock energy: -1259.403176 Hartree\n",
            "[+] VQE ground-state energy: -0.623370 Hartree\n",
            "converged SCF energy = -1259.40317618785\n"
          ]
        },
        {
          "output_type": "stream",
          "name": "stderr",
          "text": [
            "\rComputing quantum descriptors:  53%|█████▎    | 43/81 [1:21:26<1:27:40, 138.44s/it]"
          ]
        },
        {
          "output_type": "stream",
          "name": "stdout",
          "text": [
            "\n",
            "[•] Processing molecule: S1CCC(N=C1N)(C)c1cc(ccc1)-c1cc(OC)ccc1\n",
            "[i] Auto-detected Charge: 0, Auto-detected Spin: 1\n",
            "[+] Hartree–Fock energy: -1259.405411 Hartree\n",
            "[+] VQE ground-state energy: -0.675613 Hartree\n",
            "converged SCF energy = -1259.40541146157\n"
          ]
        },
        {
          "output_type": "stream",
          "name": "stderr",
          "text": [
            "\rComputing quantum descriptors:  54%|█████▍    | 44/81 [1:23:55<1:27:19, 141.61s/it]"
          ]
        },
        {
          "output_type": "stream",
          "name": "stdout",
          "text": [
            "\n",
            "[•] Processing molecule: Clc1ccc(cc1)C1(N=C(N)N(C)C1=O)c1ccccc1\n",
            "[i] Auto-detected Charge: 0, Auto-detected Spin: 1\n",
            "[+] Hartree–Fock energy: -1296.222647 Hartree\n",
            "[+] VQE ground-state energy: -0.783386 Hartree\n",
            "converged SCF energy = -1296.22264673429\n"
          ]
        },
        {
          "output_type": "stream",
          "name": "stderr",
          "text": [
            "\rComputing quantum descriptors:  56%|█████▌    | 45/81 [1:26:06<1:22:58, 138.30s/it]"
          ]
        },
        {
          "output_type": "stream",
          "name": "stdout",
          "text": [
            "\n",
            "[•] Processing molecule: Clc1cc(ccc1)C1(N=C(N)N(C)C1=O)c1ccccc1\n",
            "[i] Auto-detected Charge: 0, Auto-detected Spin: 1\n",
            "[+] Hartree–Fock energy: -1296.222228 Hartree\n",
            "[+] VQE ground-state energy: -0.775257 Hartree\n",
            "converged SCF energy = -1296.22222837249\n"
          ]
        },
        {
          "output_type": "stream",
          "name": "stderr",
          "text": [
            "\rComputing quantum descriptors:  57%|█████▋    | 46/81 [1:28:12<1:18:38, 134.82s/it]"
          ]
        },
        {
          "output_type": "stream",
          "name": "stdout",
          "text": [
            "\n",
            "[•] Processing molecule: O=C1N(C)C(=NC1(c1ccccc1)c1ccncc1)N\n",
            "[i] Auto-detected Charge: 0, Auto-detected Spin: 1\n",
            "[+] Hartree–Fock energy: -857.961834 Hartree\n",
            "[+] VQE ground-state energy: -0.782078 Hartree\n",
            "converged SCF energy = -857.961833839651\n"
          ]
        },
        {
          "output_type": "stream",
          "name": "stderr",
          "text": [
            "\rComputing quantum descriptors:  58%|█████▊    | 47/81 [1:30:02<1:12:10, 127.38s/it]"
          ]
        },
        {
          "output_type": "stream",
          "name": "stdout",
          "text": [
            "\n",
            "[•] Processing molecule: O(C)c1ccc(cc1)C1(N=C(N)N(C)C1=O)c1ccccc1\n",
            "[i] Auto-detected Charge: 0, Auto-detected Spin: 1\n",
            "[+] Hartree–Fock energy: -954.630348 Hartree\n",
            "[+] VQE ground-state energy: -0.580364 Hartree\n",
            "converged SCF energy = -954.630348037932\n"
          ]
        },
        {
          "output_type": "stream",
          "name": "stderr",
          "text": [
            "\rComputing quantum descriptors:  59%|█████▉    | 48/81 [1:32:20<1:11:48, 130.56s/it]"
          ]
        },
        {
          "output_type": "stream",
          "name": "stdout",
          "text": [
            "\n",
            " Processed up to molecule 48. Saving progress to '/content/drive/MyDrive/BACE_with_quantum_features.csv'...\n",
            "\n",
            "[•] Processing molecule: O1CC(N=C(N)C1)(C)c1cc(ccc1)-c1cc(OC)ccc1\n",
            "[i] Auto-detected Charge: 0, Auto-detected Spin: 1\n",
            "[+] Hartree–Fock energy: -940.066574 Hartree\n",
            "[+] VQE ground-state energy: -0.500651 Hartree\n",
            "converged SCF energy = -940.066573599079\n"
          ]
        },
        {
          "output_type": "stream",
          "name": "stderr",
          "text": [
            "\rComputing quantum descriptors:  60%|██████    | 49/81 [1:34:44<1:11:45, 134.53s/it]"
          ]
        },
        {
          "output_type": "stream",
          "name": "stdout",
          "text": [
            "\n",
            "[•] Processing molecule: O=C1N(C)C(=NC1(c1ccccc1)c1ccccc1)N\n",
            "[i] Auto-detected Charge: 0, Auto-detected Spin: 1\n",
            "[+] Hartree–Fock energy: -842.218371 Hartree\n",
            "[+] VQE ground-state energy: -0.692902 Hartree\n",
            "converged SCF energy = -842.218370880246\n"
          ]
        },
        {
          "output_type": "stream",
          "name": "stderr",
          "text": [
            "\rComputing quantum descriptors:  62%|██████▏   | 50/81 [1:36:36<1:06:01, 127.80s/it]"
          ]
        },
        {
          "output_type": "stream",
          "name": "stdout",
          "text": [
            "\n",
            "[•] Processing molecule: O(C)c1cc(ccc1)C1(N=C(N)N(C)C1=O)c1ccccc1\n",
            "[i] Auto-detected Charge: 0, Auto-detected Spin: 1\n",
            "[+] Hartree–Fock energy: -954.629590 Hartree\n",
            "[+] VQE ground-state energy: -0.765461 Hartree\n"
          ]
        }
      ]
    },
    {
      "cell_type": "markdown",
      "source": [
        "## **Training ML Model Using Classically Obtained Features Only**"
      ],
      "metadata": {
        "id": "NuPfziUkj84g"
      }
    },
    {
      "cell_type": "code",
      "source": [
        "import pandas as pd\n",
        "import numpy as np\n",
        "\n",
        "d = pd.read_csv(\"/content/drive/MyDrive/BACE_with_quantum_features.csv\")\n",
        "print(d.head())"
      ],
      "metadata": {
        "colab": {
          "base_uri": "https://localhost:8080/"
        },
        "id": "rFcBLmYEFo6C",
        "outputId": "ba054289-8618-42aa-f183-1b555f816037"
      },
      "execution_count": 64,
      "outputs": [
        {
          "output_type": "stream",
          "name": "stdout",
          "text": [
            "                                               mol  Class           features  \\\n",
            "0        O=C1N(C)C(N[C@@]1(CC1CCCCC1)CCC1CCCCC1)=N      0  [0 0 1 ... 0 0 0]   \n",
            "1    O=C(NC(=[NH2+])N)Cn1c(ccc1-c1ccccc1)-c1ccccc1      0  [0 0 0 ... 0 0 0]   \n",
            "2   Clc1cc(ccc1)-c1cc(ccc1)[C@@]1(OCCC(=[NH+]1)N)C      0  [0 0 0 ... 0 0 0]   \n",
            "3         [nH]1c2cc(ccc2cc1)-c1cc(ccc1)CNc1cccnc1N      0  [0 0 0 ... 0 0 0]   \n",
            "4  O=C1N(C)C(N[C@](C1)(C)[C@@H]1C[C@H]1c1ccccc1)=N      0  [0 0 0 ... 0 0 0]   \n",
            "\n",
            "     hf_energy  vqe_energy  correlation_energy  n_qubits  homo_energy  \\\n",
            "0  -965.086237   -0.861831         -964.224406       4.0    -0.245345   \n",
            "1 -1010.330855   -0.752921        -1009.577934       4.0    -0.283762   \n",
            "2 -1282.140915   -0.901309        -1281.239606       4.0    -0.348090   \n",
            "3  -973.453334   -0.614258         -972.839076       4.0    -0.197059   \n",
            "4  -807.135855   -0.734406         -806.401449       4.0    -0.242222   \n",
            "\n",
            "   lumo_energy  homo_lumo_gap  dipole_moment  \\\n",
            "0     0.281297       0.526642       0.266733   \n",
            "1     0.016072       0.299834       7.230366   \n",
            "2     0.027187       0.375277       4.481519   \n",
            "3     0.221243       0.418302       0.759746   \n",
            "4     0.255495       0.497717       0.520963   \n",
            "\n",
            "                                            smiles  charge  spin_multiplicity  \n",
            "0        O=C1N(C)C(N[C@@]1(CC1CCCCC1)CCC1CCCCC1)=N     0.0                1.0  \n",
            "1    O=C(NC(=[NH2+])N)Cn1c(ccc1-c1ccccc1)-c1ccccc1     1.0                1.0  \n",
            "2   Clc1cc(ccc1)-c1cc(ccc1)[C@@]1(OCCC(=[NH+]1)N)C     1.0                1.0  \n",
            "3         [nH]1c2cc(ccc2cc1)-c1cc(ccc1)CNc1cccnc1N     0.0                1.0  \n",
            "4  O=C1N(C)C(N[C@](C1)(C)[C@@H]1C[C@H]1c1ccccc1)=N     0.0                1.0  \n"
          ]
        }
      ]
    },
    {
      "cell_type": "code",
      "source": [
        "d[\"feature\"]=df[\"features\"]\n",
        "d[\"feature\"]"
      ],
      "metadata": {
        "colab": {
          "base_uri": "https://localhost:8080/",
          "height": 458
        },
        "id": "FTKuVZo6O1g8",
        "outputId": "6236b7d4-dd23-4750-b989-a481723621da"
      },
      "execution_count": 65,
      "outputs": [
        {
          "output_type": "execute_result",
          "data": {
            "text/plain": [
              "0     [0, 0, 1, 0, 1, 0, 0, 0, 0, 0, 0, 0, 0, 0, 0, ...\n",
              "1     [0, 0, 0, 0, 0, 0, 0, 0, 0, 0, 0, 0, 0, 0, 0, ...\n",
              "2     [0, 0, 0, 0, 0, 0, 0, 0, 0, 0, 0, 0, 0, 0, 0, ...\n",
              "3     [0, 0, 0, 0, 0, 0, 0, 0, 0, 0, 0, 0, 0, 1, 0, ...\n",
              "4     [0, 0, 0, 0, 0, 0, 0, 0, 0, 0, 0, 0, 0, 0, 0, ...\n",
              "                            ...                        \n",
              "76    [0, 0, 0, 0, 1, 0, 0, 0, 0, 0, 0, 0, 0, 0, 0, ...\n",
              "77    [0, 1, 0, 0, 1, 0, 0, 0, 0, 0, 0, 0, 0, 0, 0, ...\n",
              "78    [0, 0, 0, 0, 0, 0, 0, 0, 0, 0, 0, 0, 0, 0, 0, ...\n",
              "79    [0, 0, 0, 0, 0, 0, 0, 0, 0, 0, 1, 0, 0, 0, 0, ...\n",
              "80    [0, 0, 0, 0, 0, 0, 0, 0, 0, 0, 0, 0, 0, 0, 0, ...\n",
              "Name: feature, Length: 81, dtype: object"
            ],
            "text/html": [
              "<div>\n",
              "<style scoped>\n",
              "    .dataframe tbody tr th:only-of-type {\n",
              "        vertical-align: middle;\n",
              "    }\n",
              "\n",
              "    .dataframe tbody tr th {\n",
              "        vertical-align: top;\n",
              "    }\n",
              "\n",
              "    .dataframe thead th {\n",
              "        text-align: right;\n",
              "    }\n",
              "</style>\n",
              "<table border=\"1\" class=\"dataframe\">\n",
              "  <thead>\n",
              "    <tr style=\"text-align: right;\">\n",
              "      <th></th>\n",
              "      <th>feature</th>\n",
              "    </tr>\n",
              "  </thead>\n",
              "  <tbody>\n",
              "    <tr>\n",
              "      <th>0</th>\n",
              "      <td>[0, 0, 1, 0, 1, 0, 0, 0, 0, 0, 0, 0, 0, 0, 0, ...</td>\n",
              "    </tr>\n",
              "    <tr>\n",
              "      <th>1</th>\n",
              "      <td>[0, 0, 0, 0, 0, 0, 0, 0, 0, 0, 0, 0, 0, 0, 0, ...</td>\n",
              "    </tr>\n",
              "    <tr>\n",
              "      <th>2</th>\n",
              "      <td>[0, 0, 0, 0, 0, 0, 0, 0, 0, 0, 0, 0, 0, 0, 0, ...</td>\n",
              "    </tr>\n",
              "    <tr>\n",
              "      <th>3</th>\n",
              "      <td>[0, 0, 0, 0, 0, 0, 0, 0, 0, 0, 0, 0, 0, 1, 0, ...</td>\n",
              "    </tr>\n",
              "    <tr>\n",
              "      <th>4</th>\n",
              "      <td>[0, 0, 0, 0, 0, 0, 0, 0, 0, 0, 0, 0, 0, 0, 0, ...</td>\n",
              "    </tr>\n",
              "    <tr>\n",
              "      <th>...</th>\n",
              "      <td>...</td>\n",
              "    </tr>\n",
              "    <tr>\n",
              "      <th>76</th>\n",
              "      <td>[0, 0, 0, 0, 1, 0, 0, 0, 0, 0, 0, 0, 0, 0, 0, ...</td>\n",
              "    </tr>\n",
              "    <tr>\n",
              "      <th>77</th>\n",
              "      <td>[0, 1, 0, 0, 1, 0, 0, 0, 0, 0, 0, 0, 0, 0, 0, ...</td>\n",
              "    </tr>\n",
              "    <tr>\n",
              "      <th>78</th>\n",
              "      <td>[0, 0, 0, 0, 0, 0, 0, 0, 0, 0, 0, 0, 0, 0, 0, ...</td>\n",
              "    </tr>\n",
              "    <tr>\n",
              "      <th>79</th>\n",
              "      <td>[0, 0, 0, 0, 0, 0, 0, 0, 0, 0, 1, 0, 0, 0, 0, ...</td>\n",
              "    </tr>\n",
              "    <tr>\n",
              "      <th>80</th>\n",
              "      <td>[0, 0, 0, 0, 0, 0, 0, 0, 0, 0, 0, 0, 0, 0, 0, ...</td>\n",
              "    </tr>\n",
              "  </tbody>\n",
              "</table>\n",
              "<p>81 rows × 1 columns</p>\n",
              "</div><br><label><b>dtype:</b> object</label>"
            ]
          },
          "metadata": {},
          "execution_count": 65
        }
      ]
    },
    {
      "cell_type": "code",
      "source": [
        "d.dropna(inplace=True)\n",
        "d.reset_index(drop=True, inplace=True)"
      ],
      "metadata": {
        "id": "RcU2WwHoPVPZ"
      },
      "execution_count": 66,
      "outputs": []
    },
    {
      "cell_type": "code",
      "source": [
        "import numpy as np\n",
        "\n",
        "X = np.stack(d[\"feature\"])  # Convert feature column into a NumPy matrix\n",
        "y = d['Class']\n",
        "X.dtype"
      ],
      "metadata": {
        "colab": {
          "base_uri": "https://localhost:8080/"
        },
        "id": "uV7_ghpgF59h",
        "outputId": "18a3e244-6a16-47d4-8e19-f14d7bc69cfc"
      },
      "execution_count": 67,
      "outputs": [
        {
          "output_type": "execute_result",
          "data": {
            "text/plain": [
              "dtype('int64')"
            ]
          },
          "metadata": {},
          "execution_count": 67
        }
      ]
    },
    {
      "cell_type": "code",
      "source": [
        "y.value_counts()"
      ],
      "metadata": {
        "colab": {
          "base_uri": "https://localhost:8080/",
          "height": 178
        },
        "id": "CWuWJxStQAMT",
        "outputId": "b3b239d9-ca88-402f-c7f7-069f3ebd17f6"
      },
      "execution_count": 72,
      "outputs": [
        {
          "output_type": "execute_result",
          "data": {
            "text/plain": [
              "Class\n",
              "0    39\n",
              "1     9\n",
              "Name: count, dtype: int64"
            ],
            "text/html": [
              "<div>\n",
              "<style scoped>\n",
              "    .dataframe tbody tr th:only-of-type {\n",
              "        vertical-align: middle;\n",
              "    }\n",
              "\n",
              "    .dataframe tbody tr th {\n",
              "        vertical-align: top;\n",
              "    }\n",
              "\n",
              "    .dataframe thead th {\n",
              "        text-align: right;\n",
              "    }\n",
              "</style>\n",
              "<table border=\"1\" class=\"dataframe\">\n",
              "  <thead>\n",
              "    <tr style=\"text-align: right;\">\n",
              "      <th></th>\n",
              "      <th>count</th>\n",
              "    </tr>\n",
              "    <tr>\n",
              "      <th>Class</th>\n",
              "      <th></th>\n",
              "    </tr>\n",
              "  </thead>\n",
              "  <tbody>\n",
              "    <tr>\n",
              "      <th>0</th>\n",
              "      <td>39</td>\n",
              "    </tr>\n",
              "    <tr>\n",
              "      <th>1</th>\n",
              "      <td>9</td>\n",
              "    </tr>\n",
              "  </tbody>\n",
              "</table>\n",
              "</div><br><label><b>dtype:</b> int64</label>"
            ]
          },
          "metadata": {},
          "execution_count": 72
        }
      ]
    },
    {
      "cell_type": "code",
      "metadata": {
        "colab": {
          "base_uri": "https://localhost:8080/"
        },
        "id": "e048a27e",
        "outputId": "4a1feb6c-62db-498d-ff48-b8fc073126b8"
      },
      "source": [
        "from sklearn.decomposition import PCA\n",
        "\n",
        "pca = PCA(n_components=0.95)\n",
        "pca.fit(X)\n",
        "X_pca = pca.transform(X)\n",
        "print(\"X_train shape after PCA:\", X_pca.shape)"
      ],
      "execution_count": 68,
      "outputs": [
        {
          "output_type": "stream",
          "name": "stdout",
          "text": [
            "X_train shape after PCA: (48, 35)\n"
          ]
        }
      ]
    },
    {
      "cell_type": "code",
      "source": [
        "from sklearn.model_selection import train_test_split\n",
        "\n",
        "X_train, X_test, y_train, y_test = train_test_split(X_pca, y, test_size=0.2, random_state=1)\n",
        "\n",
        "print(\"X_train shape:\", X_train.shape)\n",
        "print(\"X_test shape:\", X_test.shape)\n",
        "print(\"y_train shape:\", y_train.shape)\n",
        "print(\"y_test shape:\", y_test.shape)"
      ],
      "metadata": {
        "colab": {
          "base_uri": "https://localhost:8080/"
        },
        "id": "wff15f_DOcRg",
        "outputId": "00977922-27c7-438a-9301-e4129bcefc59"
      },
      "execution_count": 74,
      "outputs": [
        {
          "output_type": "stream",
          "name": "stdout",
          "text": [
            "X_train shape: (38, 35)\n",
            "X_test shape: (10, 35)\n",
            "y_train shape: (38,)\n",
            "y_test shape: (10,)\n"
          ]
        }
      ]
    },
    {
      "cell_type": "code",
      "source": [
        "import xgboost as xgb\n",
        "from sklearn.metrics import accuracy_score, f1_score, precision_score, recall_score\n",
        "\n",
        "# Initialize and train the XGBoost Classifier\n",
        "xgb_model_classical = xgb.XGBClassifier(objective='binary:logistic', random_state=34, scale_pos_weight=8)\n",
        "xgb_model_classical.fit(X_train, y_train)\n",
        "\n",
        "print(\"XGBoost model (classical features only) trained successfully!\")\n",
        "\n",
        "# Make predictions on the test set\n",
        "y_pred_xgb_classical = xgb_model_classical.predict(X_test)\n",
        "\n",
        "# Evaluate the XGBoost model\n",
        "accuracy_xgb_classical = accuracy_score(y_test, y_pred_xgb_classical)\n",
        "f1_xgb_classical = f1_score(y_test, y_pred_xgb_classical)\n",
        "precision_xgb_classical = precision_score(y_test, y_pred_xgb_classical)\n",
        "recall_xgb_classical = recall_score(y_test, y_pred_xgb_classical)\n",
        "\n",
        "# Print the evaluation metrics for XGBoost (classical features only)\n",
        "print(\"\\nXGBoost Model (Classical Features Only) Evaluation:\")\n",
        "print(f\"Accuracy: {accuracy_xgb_classical:.4f}\")\n",
        "print(f\"F1 Score: {f1_xgb_classical:.4f}\")\n",
        "print(f\"Precision: {precision_xgb_classical:.4f}\")\n",
        "print(f\"Recall: {recall_xgb_classical:.4f}\")"
      ],
      "metadata": {
        "colab": {
          "base_uri": "https://localhost:8080/"
        },
        "id": "7eR1RchXSaSy",
        "outputId": "5877f3e8-bf73-4981-e06d-bec865be3519"
      },
      "execution_count": 75,
      "outputs": [
        {
          "output_type": "stream",
          "name": "stdout",
          "text": [
            "XGBoost model (classical features only) trained successfully!\n",
            "\n",
            "XGBoost Model (Classical Features Only) Evaluation:\n",
            "Accuracy: 0.9000\n",
            "F1 Score: 0.8000\n",
            "Precision: 1.0000\n",
            "Recall: 0.6667\n"
          ]
        }
      ]
    },
    {
      "cell_type": "markdown",
      "source": [
        "## **Training ML Model Using the Quantum Features Also**"
      ],
      "metadata": {
        "id": "w1dIp3Kpkmde"
      }
    },
    {
      "cell_type": "code",
      "source": [
        "X_=np.array(pd.DataFrame(d,columns=[\"hf_energy\",\"vqe_energy\",\"homo_energy\",\"lumo_energy\",\"dipole_moment\"]))\n",
        "X_Q=np.hstack((X_pca,X_))\n",
        "\n",
        "from sklearn.model_selection import train_test_split\n",
        "X_train_Q, X_test_Q, y_train_Q, y_test_Q = train_test_split(X_Q, y, test_size=0.2, random_state=2)\n",
        "\n",
        "print(\"X_train shape:\", X_train_Q.shape)\n",
        "print(\"X_test shape:\", X_test_Q.shape)"
      ],
      "metadata": {
        "id": "Dq23UCKslHuy",
        "colab": {
          "base_uri": "https://localhost:8080/"
        },
        "outputId": "f2ccd2fd-b85b-4988-a802-61df2834937d"
      },
      "execution_count": 79,
      "outputs": [
        {
          "output_type": "stream",
          "name": "stdout",
          "text": [
            "X_train shape: (38, 40)\n",
            "X_test shape: (10, 40)\n"
          ]
        }
      ]
    },
    {
      "cell_type": "code",
      "source": [
        "import xgboost as xgb\n",
        "from sklearn.metrics import accuracy_score, f1_score, precision_score, recall_score\n",
        "\n",
        "# Initialize and train the XGBoost Classifier\n",
        "xgb_model = xgb.XGBClassifier(objective='binary:logistic', random_state=4, scale_pos_weight=8)\n",
        "xgb_model.fit(X_train_Q, y_train_Q)\n",
        "\n",
        "print(\"XGBoost model trained successfully!\")\n",
        "\n",
        "# Make predictions on the test set\n",
        "y_pred_xgb = xgb_model.predict(X_test_Q)\n",
        "\n",
        "# Evaluate the XGBoost model\n",
        "accuracy_xgb = accuracy_score(y_test_Q, y_pred_xgb)\n",
        "f1_xgb = f1_score(y_test_Q, y_pred_xgb)\n",
        "precision_xgb = precision_score(y_test_Q, y_pred_xgb)\n",
        "recall_xgb = recall_score(y_test_Q, y_pred_xgb)\n",
        "\n",
        "# Print the evaluation metrics for XGBoost\n",
        "print(\"\\nXGBoost Model Evaluation:\")\n",
        "print(f\"Accuracy: {accuracy_xgb:.4f}\")\n",
        "print(f\"F1 Score: {f1_xgb:.4f}\")\n",
        "print(f\"Precision: {precision_xgb:.4f}\")\n",
        "print(f\"Recall: {recall_xgb:.4f}\")"
      ],
      "metadata": {
        "colab": {
          "base_uri": "https://localhost:8080/"
        },
        "id": "_nsffWFxRnWb",
        "outputId": "2c1ca26d-545a-4d3a-96f8-f78782c06f56"
      },
      "execution_count": 84,
      "outputs": [
        {
          "output_type": "stream",
          "name": "stdout",
          "text": [
            "XGBoost model trained successfully!\n",
            "\n",
            "XGBoost Model Evaluation:\n",
            "Accuracy: 0.9000\n",
            "F1 Score: 0.6667\n",
            "Precision: 0.5000\n",
            "Recall: 1.0000\n"
          ]
        }
      ]
    },
    {
      "cell_type": "code",
      "source": [],
      "metadata": {
        "id": "Q8STQPaiQbzE"
      },
      "execution_count": null,
      "outputs": []
    }
  ]
}